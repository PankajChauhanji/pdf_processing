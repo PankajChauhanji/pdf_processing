{
  "nbformat": 4,
  "nbformat_minor": 0,
  "metadata": {
    "colab": {
      "name": "pdf_processing_part1.ipynb",
      "provenance": [],
      "collapsed_sections": []
    },
    "kernelspec": {
      "name": "python3",
      "display_name": "Python 3"
    },
    "language_info": {
      "name": "python"
    }
  },
  "cells": [
    {
      "cell_type": "markdown",
      "source": [
        "# **PDF PROCESSING WITH PYTHON**"
      ],
      "metadata": {
        "id": "o3kX1MOKtVAW"
      }
    },
    {
      "cell_type": "markdown",
      "source": [
        ""
      ],
      "metadata": {
        "id": "1sMfIyWIfIAW"
      }
    },
    {
      "cell_type": "markdown",
      "source": [
        "# **PyPDF2**"
      ],
      "metadata": {
        "id": "yeUrEMXBfIFA"
      }
    },
    {
      "cell_type": "code",
      "source": [
        "# Importing pyPDF2 library\n",
        "import PyPDF2"
      ],
      "metadata": {
        "id": "JAUkMP24gr9K"
      },
      "execution_count": null,
      "outputs": []
    },
    {
      "cell_type": "code",
      "source": [
        "# Open PDF Files in binary mode\n",
        "\n",
        "# paths to pdf files\n",
        "path1 = \"/content/sample_data/pdf_sample1.pdf\"\n",
        "path2 = \"/content/sample_data/pdf_sample2.pdf\"\n",
        "\n",
        "# open the as file objects.\n",
        "pdf_sample1_obj = open(path1, \"rb\")\n",
        "pdf_sample2_obj = open(path2, \"rb\")"
      ],
      "metadata": {
        "id": "Ec48URufWk0Z"
      },
      "execution_count": null,
      "outputs": []
    },
    {
      "cell_type": "code",
      "source": [
        ""
      ],
      "metadata": {
        "id": "qg6lk2QKWk5X"
      },
      "execution_count": null,
      "outputs": []
    },
    {
      "cell_type": "code",
      "source": [
        "# Create an object of PdfFileReader class of PyPDF2 module and\n",
        "# pass the PDF file object & get a PDF reader object.\n",
        "pdfReader_sample1 = PyPDF2.PdfFileReader(pdf_sample1_obj)\n",
        "\n",
        "# Checking type of pdfReader_sample\n",
        "print(\"type: \", type(pdfReader_sample1))"
      ],
      "metadata": {
        "colab": {
          "base_uri": "https://localhost:8080/"
        },
        "id": "0Sbxdh84nQ1l",
        "outputId": "b4e45607-f7ae-48eb-bc0d-66ed967f162b"
      },
      "execution_count": null,
      "outputs": [
        {
          "output_type": "stream",
          "name": "stdout",
          "text": [
            "type:  <class 'PyPDF2._reader.PdfFileReader'>\n"
          ]
        }
      ]
    },
    {
      "cell_type": "code",
      "source": [
        "# Get number of pages in pdf file.\n",
        "sample1_page_count = pdfReader_sample1.numPages\n",
        "print(\"Number of Pages: \", sample1_page_count)"
      ],
      "metadata": {
        "colab": {
          "base_uri": "https://localhost:8080/"
        },
        "id": "9TvUu7iTtNgR",
        "outputId": "d13f0b08-ac78-4cf9-c1e7-32d2e13e73b7"
      },
      "execution_count": null,
      "outputs": [
        {
          "output_type": "stream",
          "name": "stdout",
          "text": [
            "Number of Pages:  4\n"
          ]
        }
      ]
    },
    {
      "cell_type": "code",
      "source": [
        "# Getting Extra Details.\n",
        "\n",
        "print(\"PDF Sample Extra Details:\")\n",
        "pdfReader_sample1.documentInfo"
      ],
      "metadata": {
        "colab": {
          "base_uri": "https://localhost:8080/"
        },
        "id": "xfgoP6QqrBiG",
        "outputId": "c2e8db72-d7cc-4661-b6a6-6e62850bc3ec"
      },
      "execution_count": null,
      "outputs": [
        {
          "output_type": "stream",
          "name": "stdout",
          "text": [
            "PDF Sample Extra Details:\n"
          ]
        },
        {
          "output_type": "execute_result",
          "data": {
            "text/plain": [
              "{'/Author': 'pankaj chauhan',\n",
              " '/CreationDate': \"D:20220606170745+05'30'\",\n",
              " '/Creator': 'Microsoft® Word 2016',\n",
              " '/ModDate': \"D:20220606170745+05'30'\",\n",
              " '/Producer': 'Microsoft® Word 2016'}"
            ]
          },
          "metadata": {},
          "execution_count": 113
        }
      ]
    },
    {
      "cell_type": "code",
      "source": [
        "# Getting Single page from PDF Reader Object\n",
        "\n",
        "# Create an object of PageObject class of PyPDF2 module\n",
        "# PDF reader object has function getPage() \n",
        "# which takes page number (starting from index 0) as argument and returns the page object.\n",
        "pageObj_sample1 = pdfReader_sample1.getPage(0)\n",
        "print(\"Type: \", type(pageObj_sample1))"
      ],
      "metadata": {
        "colab": {
          "base_uri": "https://localhost:8080/"
        },
        "id": "HaKbyOVKsZQE",
        "outputId": "30c7ee44-e04d-4bda-9421-3622f38b27e3"
      },
      "execution_count": null,
      "outputs": [
        {
          "output_type": "stream",
          "name": "stdout",
          "text": [
            "Type:  <class 'PyPDF2._page.PageObject'>\n"
          ]
        }
      ]
    },
    {
      "cell_type": "code",
      "source": [
        "# Extracting texts from page object.\n",
        "page_texts_sample1 = pageObj_sample1.extractText()\n",
        "print(\"Texts in sample pdf file: \\n\", page_texts_sample1)"
      ],
      "metadata": {
        "colab": {
          "base_uri": "https://localhost:8080/"
        },
        "id": "FYidBU7Lurew",
        "outputId": "d74c8761-a074-48d7-f44a-f14597ac56d2"
      },
      "execution_count": null,
      "outputs": [
        {
          "output_type": "stream",
          "name": "stdout",
          "text": [
            "Texts in sample pdf file: \n",
            "  \n",
            "1\n",
            " \n",
            "| \n",
            "P a g e\n",
            " \n",
            " \n",
            "Chapter 1\n",
            " \n",
            "GIT\n",
            " \n",
            "asDistributed Version Control system\n",
            " \n",
            " \n",
            "1.1.\n",
            "GIT\n",
            " \n",
            "GIT\n",
            " \n",
            "isthe most popular \n",
            "Version Control System\n",
            " \n",
            "nowadays becauseitis an open\n",
            "-\n",
            "source software \n",
            "whichis easy to handle and \n",
            "perform work on various projects. \n",
            "GIT Version Control System\n",
            " \n",
            "(\n",
            "GIT \n",
            "VERSION CONTROL SYSTEM\n",
            ")is asystem that manages thedevelopment of an evolving object. In \n",
            "other words, it is asystem thatrecordsany changes made by the software developers.There are al\n",
            "ot \n",
            "of uses for \n",
            "GIT VERSIONCONTROL SYSTEM\n",
            " \n",
            "insoftware development that makes the \n",
            "development process easier and faster. \n",
            "GITVERSION CONTROL SYSTEM\n",
            " \n",
            "is also known as \n",
            "Revision Control System.\n",
            " \n",
            " \n",
            "In the software development process, itis normal for software developers to continuallymake \n",
            "changes in pieces ofcodesand otherfiles thatinvolve addition anddeletion of afeature. It isrealized \n",
            "that severalrevisions will be made before producing th\n",
            "e final version. It is difficult to manage and \n",
            "organize the codes and thefiles becausethe number of revisions growslargerdueto larger and \n",
            "complex systems. Hence,the existence ofthe \n",
            "GITVERSION CONTROL SYSTEM\n",
            " \n",
            "really helps \n",
            "softwaredeveloperstoaccel\n",
            "erate andsimplify the development process. Without \n",
            "GIT VERSION \n",
            "CONTROL SYSTEM\n",
            ", thesoftwaredevelopersare enticedto keep variousduplicates ofcode on their \n",
            "\n"
          ]
        }
      ]
    },
    {
      "cell_type": "code",
      "source": [
        "# Saving PDF File.\n",
        "\n",
        "def save_pdf(pdfWriter_obj, output_path):\n",
        "  # create a file object\n",
        "  file_obj = open(output_path, 'wb')\n",
        "  \n",
        "  # writing pdfWriter object to new file\n",
        "  pdfWriter_obj.write(file_obj)\n",
        "  \n",
        "  # Once file is saved we can close file object.\n",
        "  file_obj.close()\n",
        "  print(\"File saved succesfuly as: \", output_path)\n"
      ],
      "metadata": {
        "id": "aUMHbDl_YLQd"
      },
      "execution_count": null,
      "outputs": []
    },
    {
      "cell_type": "code",
      "source": [
        "# Rotating PDF Pages:\n",
        "\n",
        "# We already have PdfFileReader object so we can iterate to all pages and\n",
        "# append each page after rotation to new PDF object.\n",
        "\n",
        "# angle of rotation should be in multiple of 90)\n",
        "\n",
        "def rotate_pdf(pdfReader_obj, r_angle):\n",
        "  \"\"\"Input: (PyPDF2 Reader Object, rotation angle)\n",
        "     Output: PyPDF2 Writer Object.\n",
        "  \"\"\"\n",
        "  \n",
        "  # creating a pdf writer object for new pdf\n",
        "  pdfWriter_obj = PyPDF2.PdfFileWriter()\n",
        "  \n",
        "  # rotating each page\n",
        "  for page in range(pdfReader_obj.numPages):\n",
        "    \n",
        "    # creating rotated page object\n",
        "    pageObj = pdfReader_obj.getPage(page)\n",
        "    \n",
        "    # rotating page\n",
        "    pageObj.rotateClockwise(r_angle)\n",
        "    \n",
        "    # adding rotated page object to pdf writer\n",
        "    pdfWriter_obj.addPage(pageObj)\n",
        "\n",
        "  return pdfWriter_obj\n",
        "\n",
        "\n",
        "# Function Calls.\n",
        "if __name__ == \"__main__\":\n",
        "  print(\"Rotating PDF file.\")\n",
        "  rotated_pdf = rotate_pdf(pdfReader_sample1, 90)\n",
        "  \n",
        "  # save file.\n",
        "  output_path = path1.replace(\".pdf\", \"_rotated.pdf\")\n",
        "  save_pdf(rotated_pdf, output_path)"
      ],
      "metadata": {
        "colab": {
          "base_uri": "https://localhost:8080/"
        },
        "id": "3yQ7npJjvkCa",
        "outputId": "3260f819-1e9f-4ca1-99ca-ab890f538395"
      },
      "execution_count": null,
      "outputs": [
        {
          "output_type": "stream",
          "name": "stdout",
          "text": [
            "Rotating PDF file.\n",
            "File saved succesfuly as:  /content/sample_data/pdf_sample1_rotated.pdf\n"
          ]
        }
      ]
    },
    {
      "cell_type": "code",
      "source": [
        "# Merging PDF Files:\n",
        "\n",
        "def merge_pdf(pdf_to_merge):\n",
        "  \"\"\"Input: (list of pdf paths to merge)\n",
        "     Output: PyPDF2  Merge Object.\n",
        "  \"\"\"\n",
        "  # creating pdf file merger object\n",
        "  pdfMerger = PyPDF2.PdfFileMerger()\n",
        "  \n",
        "  # appending pdfs one by one\n",
        "  for pdf in pdf_to_merge:\n",
        "    pdfMerger.append(pdf)\n",
        "\n",
        "  # returning PyPDF2 Merger Object.\n",
        "  return pdfMerger\n",
        "\n",
        "\n",
        "# Function Calls.\n",
        "if __name__ == \"__main__\":\n",
        "  print(\"Merging PDF file.\")\n",
        "  \n",
        "  # For merging we are using two pdf samples but more also.\n",
        "  # pdf_sample1.pdf && pdf_sample2.pdf\n",
        "  merged_pdf = merge_pdf([path1, path2])\n",
        "\n",
        "  # save file.\n",
        "  output_path = path1.replace(\".pdf\", \"_merged.pdf\")\n",
        "  save_pdf(merged_pdf, output_path)\n"
      ],
      "metadata": {
        "colab": {
          "base_uri": "https://localhost:8080/"
        },
        "id": "kdtF8BUu0v11",
        "outputId": "581f3bc4-4bc5-4a06-d25b-a26d7c2c8404"
      },
      "execution_count": null,
      "outputs": [
        {
          "output_type": "stream",
          "name": "stdout",
          "text": [
            "Merging PDF file.\n",
            "File saved succesfuly as:  /content/sample_data/pdf_sample1_merged.pdf\n"
          ]
        }
      ]
    },
    {
      "cell_type": "code",
      "source": [
        "# Splitting PDF File.\n",
        "# ----------------------------------------------------------------\n",
        "\n",
        "def split_pdf(pdfReader_obj, output_dir):\n",
        "  \"\"\"Input: (PyPDF2 Reader object, output directory to save)\n",
        "     Output: None.\n",
        "  \"\"\"\n",
        "  for page in range(pdfReader_obj.getNumPages()):\n",
        "    \n",
        "    # Create a pdf writer object.\n",
        "    pdf_writer = PyPDF2.PdfFileWriter() \n",
        "   \n",
        "    # get single page from PDF reader object and append to writer object.\n",
        "    pdf_writer.addPage(pdfReader_obj.getPage(page))\n",
        "  \n",
        "    # new file_name\n",
        "    output_file_name = output_dir + \"/split_\" + str(page) + '.pdf'\n",
        "  \n",
        "    # saving new PDF file\n",
        "    with open(output_file_name, 'wb') as output_pdf:\n",
        "        pdf_writer.write(output_pdf, )\n",
        "\n",
        "\n",
        "# Function Calls.\n",
        "if __name__ == \"__main__\":\n",
        "  print(\"Spliting PDF file.\")\n",
        "  split_pdf(pdfReader_sample1, \"/content/sample_data\")"
      ],
      "metadata": {
        "colab": {
          "base_uri": "https://localhost:8080/"
        },
        "id": "yIPh6dwM7FPn",
        "outputId": "75381342-7d96-41d2-95ec-79ef0365ce6a"
      },
      "execution_count": null,
      "outputs": [
        {
          "output_type": "stream",
          "name": "stdout",
          "text": [
            "Spliting PDF file.\n"
          ]
        }
      ]
    },
    {
      "cell_type": "code",
      "source": [
        "# Encrypting PDF File:\n",
        "\n",
        "def encrypt_pdf(pdfReader_obj, user_password=\"\",\n",
        "                owner_password=\"\", use_128bit=False):\n",
        "  \"\"\"Input: (PyPDF2 Reader object, user password,\n",
        "             owner password, True if want to use 128 bit encryption\n",
        "             else 40 bit is used.)\n",
        "     Output: PyPDF2 Writer Object.\n",
        "  \"\"\"\n",
        "  # create a pdf writer object\n",
        "  pdf_writer = PyPDF2.PdfFileWriter()\n",
        "  # Now iterate through each page and append to pdf writer object\n",
        "  for page in range(pdfReader_obj.getNumPages()):\n",
        "    pdf_writer.addPage(pdfReader_obj.getPage(page))\n",
        "\n",
        "  # Now we can encrypt pdf file.\n",
        "  # .encrypt(), takes the user password, the owner password, and\n",
        "  # whether or not 128-bit encryption should be added. \n",
        "  # The default is for 128-bit encryption to be turned on. \n",
        "  # If you set it to False, then 40-bit encryption will be applied instead.    \n",
        "  pdf_writer.encrypt(user_pwd=user_password, \n",
        "                     owner_pwd=owner_password, use_128bit=use_128bit)\n",
        "  \n",
        "  return pdf_writer\n",
        "\n",
        "\n",
        "# Function Calls.\n",
        "if __name__ == \"__main__\":\n",
        "  print(\"Encrypting PDF file.\")\n",
        "\n",
        "  # For encryption, We will use pdf_sample1 file.\n",
        "  # Define password for encryption\n",
        "  user_password = \"password@1234\"\n",
        "\n",
        "  e_pdfWriter = encrypt_pdf(pdfReader_sample1,\n",
        "                            user_password=user_password,\n",
        "                            owner_password=\"\",\n",
        "                            use_128bit=True)\n",
        "\n",
        "  # save file.\n",
        "  output_path = path1.replace(\".pdf\", \"_encrypted.pdf\")\n",
        "  save_pdf(e_pdfWriter, output_path)\n",
        "\n"
      ],
      "metadata": {
        "colab": {
          "base_uri": "https://localhost:8080/"
        },
        "id": "BXtzD_BY7-Oi",
        "outputId": "5fe519f8-c4df-4c3f-c96f-9a3a9797811b"
      },
      "execution_count": null,
      "outputs": [
        {
          "output_type": "stream",
          "name": "stdout",
          "text": [
            "Encrypting PDF file.\n",
            "File saved succesfuly as:  /content/sample_data/pdf_sample1_encrypted.pdf\n"
          ]
        }
      ]
    },
    {
      "cell_type": "code",
      "source": [
        "# Decrypting PDF File.\n",
        "\n",
        "def decrypt_pdf(pdfReader_obj, decrypt_password):\n",
        "  \"\"\"Input: (PyPDF2 Reader object, decrypt password)\n",
        "     Output: PyPDF2 Writer Object.\n",
        "  \"\"\"\n",
        "  # Create a PdfFileWriter object\n",
        "  pdfWriter_decrypt = PyPDF2.PdfFileWriter()\n",
        "  \n",
        "  # Check if the opened file is actually Encrypted\n",
        "  if pdfReader_obj.isEncrypted:\n",
        "    print(\"File is encrypted\")\n",
        "    # If encrypted, decrypt it with the password\n",
        "    pdfReader_obj.decrypt(decrypt_password)\n",
        "\n",
        "    # Now, the file has been unlocked.\n",
        "    # Iterate through every page of the file\n",
        "    # and add it to our new file.\n",
        "    for page in range(pdfReader_obj.numPages):\n",
        "      # Get the page at index page\n",
        "      page = pdfReader_obj.getPage(page)\n",
        "      \n",
        "      # Add it to the output file\n",
        "      pdfWriter_decrypt.addPage(page)\n",
        "    \n",
        "  # return decrypted pdfWriter object.\n",
        "  return pdfWriter_decrypt\n",
        "\n",
        "\n",
        "if __name__ == \"__main__\":\n",
        "  print(\"Derypting PDF file.\")\n",
        "\n",
        "  # We will decrypt encrypted pdf which we encrypted just above.\n",
        "  user_password = \"password@1234\"\n",
        "  inp_path = \"/content/sample_data/pdf_sample1_encrypted.pdf\"\n",
        "\n",
        "  # create PyPDF2 Reader Object.\n",
        "  encrypted_pdf = PyPDF2.PdfReader(open(inp_path, \"rb\"))\n",
        "\n",
        "  d_pdfWriter = decrypt_pdf(encrypted_pdf, user_password)\n",
        "\n",
        "  # save file.\n",
        "  output_path = path1.replace(\".pdf\", \"_decrypted.pdf\")\n",
        "  save_pdf(d_pdfWriter, output_path)"
      ],
      "metadata": {
        "colab": {
          "base_uri": "https://localhost:8080/"
        },
        "id": "KIhK3XM0Jbqu",
        "outputId": "10503813-4592-41b6-93b8-94d455c8e5e7"
      },
      "execution_count": null,
      "outputs": [
        {
          "output_type": "stream",
          "name": "stdout",
          "text": [
            "Derypting PDF file.\n",
            "File is encrypted\n",
            "File saved succesfuly as:  /content/sample_data/pdf_sample1_decrypted.pdf\n"
          ]
        }
      ]
    },
    {
      "cell_type": "code",
      "source": [
        "# Cropping PDF Files\n",
        "def crop_pdf(pdfReader_obj):\n",
        "  \"\"\"Input: PyPDF2 Reader Object\n",
        "     Output: PyPDF2 Writer Object\n",
        "  \"\"\"\n",
        "  print(\"Cropping PDF File.\")\n",
        "\n",
        "  # create pdfWriter Object.\n",
        "  output_obj = PyPDF2.PdfFileWriter()\n",
        "\n",
        "  # Iterate through pages and Crop all pages\n",
        "  for i in range(pdfReader_obj.numPages):\n",
        "    page = pdfReader_obj.getPage(i)\n",
        "\n",
        "    # cropping page\n",
        "    page.trimBox.lowerLeft = (25, 25)\n",
        "    page.trimBox.upperRight = (225, 225)\n",
        "    page.cropBox.lowerLeft = (50, 50)\n",
        "    page.cropBox.upperRight = (200, 200)\n",
        "\n",
        "    # Finally append page.\n",
        "    output_obj.addPage(page)\n",
        "    \n",
        "  # returning pdfWriter Object.\n",
        "  return output_obj\n",
        "\n",
        "\n",
        "if __name__ == \"__main__\":\n",
        "  print(\"Cropping PDF file.\")\n",
        "\n",
        "  # Function call to crop pdf file.\n",
        "  cropped_pdfWriter_obj = crop_pdf(pdfReader_sample1)\n",
        "\n",
        "  # save file.\n",
        "  output_path = path1.replace(\".pdf\", \"_cropped.pdf\")\n",
        "  save_pdf(cropped_pdfWriter_obj, output_path)\n",
        "  \n",
        "  print(\"PDF file is cropped.\")"
      ],
      "metadata": {
        "colab": {
          "base_uri": "https://localhost:8080/"
        },
        "id": "3nJQ5svtM116",
        "outputId": "cb94c88e-e0ba-4ff5-bf68-823109e4b12b"
      },
      "execution_count": null,
      "outputs": [
        {
          "output_type": "stream",
          "name": "stdout",
          "text": [
            "Cropping PDF file.\n",
            "Cropping PDF File.\n",
            "File saved succesfuly as:  /content/sample_data/pdf_sample1_cropped.pdf\n",
            "PDF file is cropped.\n"
          ]
        }
      ]
    },
    {
      "cell_type": "code",
      "source": [
        "# Scaling PDF Files.\n",
        "\n",
        "def scale_pdf(pdfReader_obj, scale_factor):\n",
        "  \"\"\"Input: (PyPDF2 Reader Obj, scale factor)\n",
        "     Output: PyPDF Writer Obj\n",
        "  \"\"\"\n",
        "  # create pdfWriter Object.\n",
        "  output_obj = PyPDF2.PdfFileWriter()\n",
        "\n",
        "  for i in range(pdfReader_obj.numPages):\n",
        "    page = pdfReader_obj.getPage(i)\n",
        "    page.scaleBy(scale_factor) \n",
        "\n",
        "    # Finally append page.\n",
        "    output_obj.addPage(page)\n",
        "    \n",
        "  # returning pdfWriter Object.\n",
        "  return output_obj\n",
        "\n",
        "\n",
        "if __name__ == \"__main__\":\n",
        "  print(\"Scaling PDF file.\")\n",
        "\n",
        "  # Function call to scale pdf file.\n",
        "  scale_pdfWriter_obj = scale_pdf(pdfReader_sample1, 1)\n",
        "  print(\"PDF file is scaled.\")\n",
        "\n",
        "  # save file.\n",
        "  output_path = path1.replace(\".pdf\", \"_scaled.pdf\")\n",
        "  save_pdf(scale_pdfWriter_obj, output_path)\n",
        "\n",
        "\n"
      ],
      "metadata": {
        "colab": {
          "base_uri": "https://localhost:8080/"
        },
        "id": "4CPs7sWpOQ4c",
        "outputId": "60afe74a-470b-4d30-81aa-53094e579272"
      },
      "execution_count": null,
      "outputs": [
        {
          "output_type": "stream",
          "name": "stdout",
          "text": [
            "Scaling PDF file.\n",
            "PDF file is scaled.\n",
            "File saved succesfuly as:  /content/sample_data/pdf_sample1_scaled.pdf\n"
          ]
        }
      ]
    },
    {
      "cell_type": "code",
      "source": [
        "# Removing Images\n",
        "\n",
        "def remove_images(pdfReader_obj, ):\n",
        "  \"\"\"Input: (PyPDF2 Reader Obj)\n",
        "     Output: PyPDF Writer Obj\n",
        "  \"\"\"\n",
        "  # create pdfWriter Object.\n",
        "  output_obj = PyPDF2.PdfFileWriter()\n",
        "\n",
        "  for i in range(pdfReader_obj.numPages):\n",
        "    page = pdfReader_obj.getPage(i)\n",
        "\n",
        "    # Finally append page.\n",
        "    output_obj.addPage(page)\n",
        "  \n",
        "  # removing all images.\n",
        "  output_obj.remove_images()\n",
        "    \n",
        "  # returning pdfWriter Object.\n",
        "  return output_obj\n",
        "\n",
        "# Function call to remove images from pdf file.\n",
        "cropped_pdfWriter_obj = remove_images(pdfReader_sample1)\n",
        "print(\"Images Removed from PDF File.\")"
      ],
      "metadata": {
        "colab": {
          "base_uri": "https://localhost:8080/"
        },
        "id": "02ebUwbQTR9S",
        "outputId": "e5dcbb5a-3428-4084-d09b-fa308c955767"
      },
      "execution_count": null,
      "outputs": [
        {
          "output_type": "stream",
          "name": "stdout",
          "text": [
            "Images Removed from PDF File.\n"
          ]
        }
      ]
    },
    {
      "cell_type": "code",
      "source": [
        "# Removing Images\n",
        "\n",
        "def remove_images(pdfReader_obj):\n",
        "  \"\"\"Input: (PyPDF2 Reader Obj)\n",
        "     Output: PyPDF Writer Obj\n",
        "  \"\"\"\n",
        "  # create pdfWriter Object.\n",
        "  output_obj = PyPDF2.PdfFileWriter()\n",
        "\n",
        "  for i in range(pdfReader_obj.numPages):\n",
        "    page = pdfReader_obj.getPage(i)\n",
        "\n",
        "    # Finally append page.\n",
        "    output_obj.addPage(page)\n",
        "  \n",
        "  # removing all images.\n",
        "  output_obj.remove_images()\n",
        "    \n",
        "  # returning pdfWriter Object.\n",
        "  return output_obj\n",
        "\n",
        "# Function call to remove images from pdf file.\n",
        "rmi_pdfWriter_obj = remove_images(pdfReader_sample1)\n",
        "print(\"Images Removed from PDF File.\")"
      ],
      "metadata": {
        "colab": {
          "base_uri": "https://localhost:8080/"
        },
        "id": "CJwu0ae1UVMI",
        "outputId": "44b6563f-2b78-477e-a45f-f636e6620635"
      },
      "execution_count": null,
      "outputs": [
        {
          "output_type": "stream",
          "name": "stdout",
          "text": [
            "Images Removed from PDF File.\n"
          ]
        }
      ]
    },
    {
      "cell_type": "code",
      "source": [
        "# Compressing Content.\n",
        "\n",
        "def compress_pdf(pdfReader_obj):\n",
        "  \"\"\"Input: (PyPDF2 Reader Obj)\n",
        "     Output: PyPDF Writer Obj\n",
        "  \"\"\"\n",
        "  # create pdfWriter Object.\n",
        "  output_obj = PyPDF2.PdfFileWriter()\n",
        "\n",
        "  for i in range(pdfReader_obj.numPages):\n",
        "    page = pdfReader_obj.getPage(i)\n",
        "\n",
        "    # compressing page.\n",
        "    page.compress_content_streams()\n",
        "\n",
        "    # Finally append page.\n",
        "    output_obj.addPage(page)\n",
        "    \n",
        "  # returning pdfWriter Object.\n",
        "  return output_obj\n",
        "\n",
        "# Function call to compress pdf file.\n",
        "compressed_pdfWriter_obj = compress_pdf(pdfReader_sample1)\n",
        "print(\"PDF File compressed.\")"
      ],
      "metadata": {
        "colab": {
          "base_uri": "https://localhost:8080/"
        },
        "id": "QLtEIUjAUaAt",
        "outputId": "f407132c-2f6e-4e47-a165-285140d8db62"
      },
      "execution_count": null,
      "outputs": [
        {
          "output_type": "stream",
          "name": "stdout",
          "text": [
            "PDF File compressed.\n"
          ]
        }
      ]
    },
    {
      "cell_type": "markdown",
      "source": [
        "There are many more functions in PyPDF2 for PDF Processing.\n",
        "Please go through official PyPDF2 Docs for more understanding."
      ],
      "metadata": {
        "id": "5yk-HjDcVku4"
      }
    },
    {
      "cell_type": "code",
      "source": [
        "###################################################################################################"
      ],
      "metadata": {
        "id": "yzvx6STqJq-p"
      },
      "execution_count": null,
      "outputs": []
    }
  ]
}