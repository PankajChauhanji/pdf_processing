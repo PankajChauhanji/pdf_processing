{
  "cells": [
    {
      "cell_type": "markdown",
      "metadata": {
        "id": "UperaphG_GoV"
      },
      "source": [
        "# **Extracting Tabular Data From PDF Files Using**"
      ]
    },
    {
      "cell_type": "markdown",
      "metadata": {
        "id": "Svla3a1yIrfr"
      },
      "source": [
        "# **How It Works**\n",
        "You can choose between two table parsing methods, Stream and Lattice.\n",
        "# 1.   **Stream**\n",
        "\n",
        "Stream can be used to parse tables that have whitespaces between cells to simulate a table structure. It is built on top of PDFMiner’s functionality of grouping characters on a page into words and sentences, using margins.\n",
        "\n",
        "Words on the PDF page are grouped into text rows based on their y axis overlaps.\n",
        "\n",
        "Textedges are calculated and then used to guess interesting table areas on the PDF page. You can read Anssi Nurminen’s master’s thesis to know more about this table detection technique.\n",
        "\n",
        "The number of columns inside each table area are then guessed. This is done by calculating the mode of number of words in each text row. Based on this mode, words in each text row are chosen to calculate a list of column x ranges.\n",
        "\n",
        "Words that lie inside/outside the current column x ranges are then used to extend the current list of columns.\n",
        "\n",
        "Finally, a table is formed using the text rows’ y ranges and column x ranges and words found on the page are assigned to the table’s cells based on their x and y coordinates.\n",
        "\n",
        "\n",
        "#2.  **Lattice**\n",
        "\n",
        "\n",
        "Lattice is more deterministic in nature, and it does not rely on guesses. It can be used to parse tables that have demarcated lines between cells, and it can automatically parse multiple tables present on a page.\n",
        "\n",
        "It starts by converting the PDF page to an image using ghostscript, and then processes it to get horizontal and vertical line segments by applying a set of morphological transformations (erosion and dilation) using OpenCV."
      ]
    },
    {
      "cell_type": "markdown",
      "metadata": {
        "id": "witA1sDS_axW"
      },
      "source": [
        "\n",
        "\n",
        "*   **tabula-py**"
      ]
    },
    {
      "cell_type": "code",
      "execution_count": null,
      "metadata": {
        "id": "6m-0eI5o_8A_"
      },
      "outputs": [],
      "source": [
        "# importing libaray\n",
        "import tabula"
      ]
    },
    {
      "cell_type": "code",
      "execution_count": null,
      "metadata": {
        "colab": {
          "base_uri": "https://localhost:8080/"
        },
        "id": "go8YImXt-eUQ",
        "outputId": "a2bd5c6b-aea9-43d4-eb71-0dfbb78e6dfa"
      },
      "outputs": [
        {
          "name": "stdout",
          "output_type": "stream",
          "text": [
            "Python version:\n",
            "    3.7.13 (default, Apr 24 2022, 01:04:09) \n",
            "[GCC 7.5.0]\n",
            "Java version:\n",
            "    openjdk version \"11.0.15\" 2022-04-19\n",
            "OpenJDK Runtime Environment (build 11.0.15+10-Ubuntu-0ubuntu0.18.04.1)\n",
            "OpenJDK 64-Bit Server VM (build 11.0.15+10-Ubuntu-0ubuntu0.18.04.1, mixed mode, sharing)\n",
            "tabula-py version: 2.4.0\n",
            "platform: Linux-5.4.188+-x86_64-with-Ubuntu-18.04-bionic\n",
            "uname:\n",
            "    uname_result(system='Linux', node='76b883a89026', release='5.4.188+', version='#1 SMP Sun Apr 24 10:03:06 PDT 2022', machine='x86_64', processor='x86_64')\n",
            "linux_distribution: ('Ubuntu', '18.04', 'bionic')\n",
            "mac_ver: ('', ('', '', ''), '')\n"
          ]
        }
      ],
      "source": [
        "# Before trying tabula-py, check your environment via tabula-py environment_info() function, \n",
        "# which shows Python version, Java version, and your OS environment.\n",
        "import tabula\n",
        "tabula.environment_info()"
      ]
    },
    {
      "cell_type": "code",
      "execution_count": null,
      "metadata": {
        "id": "wLQxnHvJ-gSM"
      },
      "outputs": [],
      "source": [
        "# path to pdf file.\n",
        "pdf_path1 = \"/content/sample_data/pdf_sample1.pdf\"\n",
        "pdf_path2 = \"/content/sample_data/pdf_with_table.pdf\""
      ]
    },
    {
      "cell_type": "code",
      "execution_count": null,
      "metadata": {
        "colab": {
          "base_uri": "https://localhost:8080/"
        },
        "id": "sdprUrYJA5sR",
        "outputId": "753b722a-8457-4059-9540-cb6a63ea0b8c"
      },
      "outputs": [
        {
          "name": "stderr",
          "output_type": "stream",
          "text": [
            "'pages' argument isn't specified.Will extract only from page 1 by default.\n"
          ]
        },
        {
          "name": "stdout",
          "output_type": "stream",
          "text": [
            "Total table Found:  1\n",
            "Type:  <class 'list'>\n",
            "\n",
            " Table:\n",
            "     Unnamed: 0    Unnamed: 1 Unnamed: 2   Unnamed: 3    Unnamed: 4  \\\n",
            "0          NaN           NaN        NaN      Ballots           NaN   \n",
            "1   Disability           NaN    Ballots          NaN           NaN   \n",
            "2          NaN  Participants        NaN  Incomplete/           NaN   \n",
            "3     Category           NaN  Completed          NaN      Accuracy   \n",
            "4          NaN           NaN        NaN   Terminated           NaN   \n",
            "5          NaN           NaN        NaN          NaN           NaN   \n",
            "6        Blind             5          1            4    34.5%, n=1   \n",
            "7   Low Vision             5          2            3     98.3% n=2   \n",
            "8          NaN           NaN        NaN          NaN  (97.7%, n=3)   \n",
            "9    Dexterity             5          4            1    98.3%, n=4   \n",
            "10    Mobility             3          3            0    95.4%, n=3   \n",
            "\n",
            "            Results  \n",
            "0               NaN  \n",
            "1               NaN  \n",
            "2               NaN  \n",
            "3           Time to  \n",
            "4               NaN  \n",
            "5          complete  \n",
            "6     1199 sec, n=1  \n",
            "7     1716 sec, n=3  \n",
            "8   (1934 sec, n=2)  \n",
            "9   1672.1 sec, n=4  \n",
            "10    1416 sec, n=3  \n"
          ]
        }
      ],
      "source": [
        "# reading pdf file with help of tabula\n",
        "dfs = tabula.read_pdf(pdf_path2, stream=True)\n",
        "\n",
        "# read_pdf returns list of DataFrames\n",
        "print(\"Total table Found: \", len(dfs))\n",
        "print(\"Type: \", type(dfs))\n",
        "print(\"\\n Table:\\n\", dfs[0])"
      ]
    },
    {
      "cell_type": "code",
      "execution_count": null,
      "metadata": {
        "colab": {
          "base_uri": "https://localhost:8080/"
        },
        "id": "4K_5CeZECPD1",
        "outputId": "6d1250a6-98e2-483e-ad8e-0ca6eeb2f2a8"
      },
      "outputs": [
        {
          "name": "stdout",
          "output_type": "stream",
          "text": [
            "Help on function read_pdf in module tabula.io:\n",
            "\n",
            "read_pdf(input_path, output_format=None, encoding='utf-8', java_options=None, pandas_options=None, multiple_tables=True, user_agent=None, **kwargs)\n",
            "    Read tables in PDF.\n",
            "    \n",
            "    Args:\n",
            "        input_path (str, path object or file-like object):\n",
            "            File like object of tareget PDF file.\n",
            "            It can be URL, which is downloaded by tabula-py automatically.\n",
            "        output_format (str, optional):\n",
            "            Output format for returned object (``dataframe`` or ``json``)\n",
            "        encoding (str, optional):\n",
            "            Encoding type for pandas. Default: ``utf-8``\n",
            "        java_options (list, optional):\n",
            "            Set java options.\n",
            "    \n",
            "            Example:\n",
            "                ``[\"-Xmx256m\"]``\n",
            "        pandas_options (dict, optional):\n",
            "            Set pandas options.\n",
            "    \n",
            "            Example:\n",
            "                ``{'header': None}``\n",
            "    \n",
            "            Note:\n",
            "                With ``multiple_tables=True`` (default), pandas_options is passed\n",
            "                to pandas.DataFrame, otherwise it is passed to pandas.read_csv.\n",
            "                Those two functions are different for accept options like ``dtype``.\n",
            "        multiple_tables (bool):\n",
            "            It enables to handle multiple tables within a page. Default: ``True``\n",
            "    \n",
            "            Note:\n",
            "                If `multiple_tables` option is enabled, tabula-py uses not\n",
            "                :func:`pd.read_csv()`, but :func:`pd.DataFrame()`. Make\n",
            "                sure to pass appropriate `pandas_options`.\n",
            "        user_agent (str, optional):\n",
            "            Set a custom user-agent when download a pdf from a url. Otherwise\n",
            "            it uses the default ``urllib.request`` user-agent.\n",
            "        kwargs:\n",
            "            Dictionary of option for tabula-java. Details are shown in\n",
            "            :func:`build_options()`\n",
            "    \n",
            "    Returns:\n",
            "        list of DataFrames or dict.\n",
            "    \n",
            "    Raises:\n",
            "        FileNotFoundError:\n",
            "            If downloaded remote file doesn't exist.\n",
            "    \n",
            "        ValueError:\n",
            "            If output_format is unknown format, or if downloaded remote file size is 0.\n",
            "    \n",
            "        tabula.errors.CSVParseError:\n",
            "            If pandas CSV parsing failed.\n",
            "    \n",
            "        tabula.errors.JavaNotFoundError:\n",
            "            If java is not installed or found.\n",
            "    \n",
            "        subprocess.CalledProcessError:\n",
            "            If tabula-java execution failed.\n",
            "    \n",
            "    \n",
            "    Examples:\n",
            "    \n",
            "        Here is a simple example.\n",
            "        Note that :func:`read_pdf()` only extract page 1 by default.\n",
            "    \n",
            "        Notes:\n",
            "            As of tabula-py 2.0.0, :func:`read_pdf()` sets `multiple_tables=True` by\n",
            "            default. If you want to get consistent output with previous version, set\n",
            "            `multiple_tables=False`.\n",
            "    \n",
            "        >>> import tabula\n",
            "        >>> pdf_path = \"https://github.com/chezou/tabula-py/raw/master/tests/resources/data.pdf\"\n",
            "        >>> tabula.read_pdf(pdf_path, stream=True)\n",
            "        [             Unnamed: 0   mpg  cyl   disp   hp  drat     wt   qsec  vs  am  gear  carb\n",
            "        0             Mazda RX4  21.0    6  160.0  110  3.90  2.620  16.46   0   1     4     4\n",
            "        1         Mazda RX4 Wag  21.0    6  160.0  110  3.90  2.875  17.02   0   1     4     4\n",
            "        2            Datsun 710  22.8    4  108.0   93  3.85  2.320  18.61   1   1     4     1\n",
            "        3        Hornet 4 Drive  21.4    6  258.0  110  3.08  3.215  19.44   1   0     3     1\n",
            "        4     Hornet Sportabout  18.7    8  360.0  175  3.15  3.440  17.02   0   0     3     2\n",
            "        5               Valiant  18.1    6  225.0  105  2.76  3.460  20.22   1   0     3     1\n",
            "        6            Duster 360  14.3    8  360.0  245  3.21  3.570  15.84   0   0     3     4\n",
            "        7             Merc 240D  24.4    4  146.7   62  3.69  3.190  20.00   1   0     4     2\n",
            "        8              Merc 230  22.8    4  140.8   95  3.92  3.150  22.90   1   0     4     2\n",
            "        9              Merc 280  19.2    6  167.6  123  3.92  3.440  18.30   1   0     4     4\n",
            "        10            Merc 280C  17.8    6  167.6  123  3.92  3.440  18.90   1   0     4     4\n",
            "        11           Merc 450SE  16.4    8  275.8  180  3.07  4.070  17.40   0   0     3     3\n",
            "        12           Merc 450SL  17.3    8  275.8  180  3.07  3.730  17.60   0   0     3     3\n",
            "        13          Merc 450SLC  15.2    8  275.8  180  3.07  3.780  18.00   0   0     3     3\n",
            "        14   Cadillac Fleetwood  10.4    8  472.0  205  2.93  5.250  17.98   0   0     3     4\n",
            "        15  Lincoln Continental  10.4    8  460.0  215  3.00  5.424  17.82   0   0     3     4\n",
            "        16    Chrysler Imperial  14.7    8  440.0  230  3.23  5.345  17.42   0   0     3     4\n",
            "        17             Fiat 128  32.4    4   78.7   66  4.08  2.200  19.47   1   1     4     1\n",
            "        18          Honda Civic  30.4    4   75.7   52  4.93  1.615  18.52   1   1     4     2\n",
            "        19       Toyota Corolla  33.9    4   71.1   65  4.22  1.835  19.90   1   1     4     1\n",
            "        20        Toyota Corona  21.5    4  120.1   97  3.70  2.465  20.01   1   0     3     1\n",
            "        21     Dodge Challenger  15.5    8  318.0  150  2.76  3.520  16.87   0   0     3     2\n",
            "        22          AMC Javelin  15.2    8  304.0  150  3.15  3.435  17.30   0   0     3     2\n",
            "        23           Camaro Z28  13.3    8  350.0  245  3.73  3.840  15.41   0   0     3     4\n",
            "        24     Pontiac Firebird  19.2    8  400.0  175  3.08  3.845  17.05   0   0     3     2\n",
            "        25            Fiat X1-9  27.3    4   79.0   66  4.08  1.935  18.90   1   1     4     1\n",
            "        26        Porsche 914-2  26.0    4  120.3   91  4.43  2.140  16.70   0   1     5     2\n",
            "        27         Lotus Europa  30.4    4   95.1  113  3.77  1.513  16.90   1   1     5     2\n",
            "        28       Ford Pantera L  15.8    8  351.0  264  4.22  3.170  14.50   0   1     5     4\n",
            "        29         Ferrari Dino  19.7    6  145.0  175  3.62  2.770  15.50   0   1     5     6\n",
            "        30        Maserati Bora  15.0    8  301.0  335  3.54  3.570  14.60   0   1     5     8\n",
            "        31           Volvo 142E  21.4    4  121.0  109  4.11  2.780  18.60   1   1     4     2]\n",
            "    \n",
            "        If you want to extract all pages, set ``pages=\"all\"``.\n",
            "    \n",
            "        >>> dfs = tabula.read_pdf(pdf_path, pages=\"all\")\n",
            "        >>> len(dfs)\n",
            "        4\n",
            "        >>> dfs\n",
            "        [       0    1      2    3     4      5      6   7   8     9\n",
            "        0    mpg  cyl   disp   hp  drat     wt   qsec  vs  am  gear\n",
            "        1   21.0    6  160.0  110  3.90  2.620  16.46   0   1     4\n",
            "        2   21.0    6  160.0  110  3.90  2.875  17.02   0   1     4\n",
            "        3   22.8    4  108.0   93  3.85  2.320  18.61   1   1     4\n",
            "        4   21.4    6  258.0  110  3.08  3.215  19.44   1   0     3\n",
            "        5   18.7    8  360.0  175  3.15  3.440  17.02   0   0     3\n",
            "        6   18.1    6  225.0  105  2.76  3.460  20.22   1   0     3\n",
            "        7   14.3    8  360.0  245  3.21  3.570  15.84   0   0     3\n",
            "        8   24.4    4  146.7   62  3.69  3.190  20.00   1   0     4\n",
            "        9   22.8    4  140.8   95  3.92  3.150  22.90   1   0     4\n",
            "        10  19.2    6  167.6  123  3.92  3.440  18.30   1   0     4\n",
            "        11  17.8    6  167.6  123  3.92  3.440  18.90   1   0     4\n",
            "        12  16.4    8  275.8  180  3.07  4.070  17.40   0   0     3\n",
            "        13  17.3    8  275.8  180  3.07  3.730  17.60   0   0     3\n",
            "        14  15.2    8  275.8  180  3.07  3.780  18.00   0   0     3\n",
            "        15  10.4    8  472.0  205  2.93  5.250  17.98   0   0     3\n",
            "        16  10.4    8  460.0  215  3.00  5.424  17.82   0   0     3\n",
            "        17  14.7    8  440.0  230  3.23  5.345  17.42   0   0     3\n",
            "        18  32.4    4   78.7   66  4.08  2.200  19.47   1   1     4\n",
            "        19  30.4    4   75.7   52  4.93  1.615  18.52   1   1     4\n",
            "        20  33.9    4   71.1   65  4.22  1.835  19.90   1   1     4\n",
            "        21  21.5    4  120.1   97  3.70  2.465  20.01   1   0     3\n",
            "        22  15.5    8  318.0  150  2.76  3.520  16.87   0   0     3\n",
            "        23  15.2    8  304.0  150  3.15  3.435  17.30   0   0     3\n",
            "        24  13.3    8  350.0  245  3.73  3.840  15.41   0   0     3\n",
            "        25  19.2    8  400.0  175  3.08  3.845  17.05   0   0     3\n",
            "        26  27.3    4   79.0   66  4.08  1.935  18.90   1   1     4\n",
            "        27  26.0    4  120.3   91  4.43  2.140  16.70   0   1     5\n",
            "        28  30.4    4   95.1  113  3.77  1.513  16.90   1   1     5\n",
            "        29  15.8    8  351.0  264  4.22  3.170  14.50   0   1     5\n",
            "        30  19.7    6  145.0  175  3.62  2.770  15.50   0   1     5\n",
            "        31  15.0    8  301.0  335  3.54  3.570  14.60   0   1     5,               0            1             2            3        4\n",
            "        0  Sepal.Length  Sepal.Width  Petal.Length  Petal.Width  Species\n",
            "        1           5.1          3.5           1.4          0.2   setosa\n",
            "        2           4.9          3.0           1.4          0.2   setosa\n",
            "        3           4.7          3.2           1.3          0.2   setosa\n",
            "        4           4.6          3.1           1.5          0.2   setosa\n",
            "        5           5.0          3.6           1.4          0.2   setosa\n",
            "        6           5.4          3.9           1.7          0.4   setosa,      0             1            2             3            4          5\n",
            "        0  NaN  Sepal.Length  Sepal.Width  Petal.Length  Petal.Width    Species\n",
            "        1  145           6.7          3.3           5.7          2.5  virginica\n",
            "        2  146           6.7          3.0           5.2          2.3  virginica\n",
            "        3  147           6.3          2.5           5.0          1.9  virginica\n",
            "        4  148           6.5          3.0           5.2          2.0  virginica\n",
            "        5  149           6.2          3.4           5.4          2.3  virginica\n",
            "        6  150           5.9          3.0           5.1          1.8  virginica,        0\n",
            "        0   supp\n",
            "        1     VC\n",
            "        2     VC\n",
            "        3     VC\n",
            "        4     VC\n",
            "        5     VC\n",
            "        6     VC\n",
            "        7     VC\n",
            "        8     VC\n",
            "        9     VC\n",
            "        10    VC\n",
            "        11    VC\n",
            "        12    VC\n",
            "        13    VC\n",
            "        14    VC]\n",
            "\n",
            "None\n"
          ]
        }
      ],
      "source": [
        "# Options available in read_pdf()\n",
        "print(help(tabula.read_pdf))"
      ]
    },
    {
      "cell_type": "code",
      "execution_count": null,
      "metadata": {
        "id": "F5M5I_XQCZSq"
      },
      "outputs": [],
      "source": [
        "# # So we got.\n",
        "# read_pdf(input_path, output_format=None, encoding='utf-8',\n",
        "#          java_options=None, pandas_options=None,\n",
        "#          multiple_tables=True, user_agent=None, **kwargs)\n",
        "#     Read tables in PDF.\n",
        "    \n",
        "#     Args:\n",
        "#         input_path (str, path object or file-like object):\n",
        "#             File like object of tareget PDF file.\n",
        "#             It can be URL, which is downloaded by tabula-py automatically.\n",
        "#         output_format (str, optional):\n",
        "#             Output format for returned object (``dataframe`` or ``json``)\n",
        "#         encoding (str, optional):\n",
        "#             Encoding type for pandas. Default: ``utf-8``\n",
        "#         java_options (list, optional):\n",
        "#             Set java options.\n",
        "    \n",
        "#             Example:\n",
        "#                 ``[\"-Xmx256m\"]``\n",
        "#         pandas_options (dict, optional):\n",
        "#             Set pandas options.\n",
        "    \n",
        "#             Example:\n",
        "#                 ``{'header': None}``\n",
        "    \n",
        "#             Note:\n",
        "#                 With ``multiple_tables=True`` (default), pandas_options is passed\n",
        "#                 to pandas.DataFrame, otherwise it is passed to pandas.read_csv.\n",
        "#                 Those two functions are different for accept options like ``dtype``.\n",
        "#         multiple_tables (bool):\n",
        "#             It enables to handle multiple tables within a page. Default: ``True``\n",
        "    \n",
        "#             Note:\n",
        "#                 If `multiple_tables` option is enabled, tabula-py uses not\n",
        "#                 :func:`pd.read_csv()`, but :func:`pd.DataFrame()`. Make\n",
        "#                 sure to pass appropriate `pandas_options`.\n",
        "#         user_agent (str, optional):\n",
        "#             Set a custom user-agent when download a pdf from a url. Otherwise\n",
        "#             it uses the default ``urllib.request`` user-agent.\n",
        "#         kwargs:\n",
        "#             Dictionary of option for tabula-java. Details are shown in\n",
        "#             :func:`build_options()`\n",
        "    \n",
        "#     Returns:\n",
        "        # list of DataFrames or dict."
      ]
    },
    {
      "cell_type": "code",
      "execution_count": null,
      "metadata": {
        "colab": {
          "base_uri": "https://localhost:8080/"
        },
        "id": "Uu0LTrQgC0s_",
        "outputId": "8c6f4e91-3156-43e8-a840-d9b340c83512"
      },
      "outputs": [
        {
          "name": "stderr",
          "output_type": "stream",
          "text": [
            "Got stderr: Jun 06, 2022 5:29:39 PM org.apache.pdfbox.pdmodel.font.PDTrueTypeFont <init>\n",
            "WARNING: Using fallback font 'LiberationSans-Bold' for 'TimesNewRomanPS-BoldMT'\n",
            "Jun 06, 2022 5:29:39 PM org.apache.pdfbox.pdmodel.font.PDTrueTypeFont <init>\n",
            "WARNING: Using fallback font 'LiberationSans' for 'TimesNewRomanPSMT'\n",
            "Jun 06, 2022 5:29:41 PM org.apache.pdfbox.pdmodel.font.PDTrueTypeFont <init>\n",
            "WARNING: Using fallback font 'LiberationSans-Bold' for 'TimesNewRomanPS-BoldMT'\n",
            "Jun 06, 2022 5:29:41 PM org.apache.pdfbox.pdmodel.font.PDTrueTypeFont <init>\n",
            "WARNING: Using fallback font 'LiberationSans' for 'TimesNewRomanPSMT'\n",
            "Jun 06, 2022 5:29:43 PM org.apache.pdfbox.pdmodel.font.PDTrueTypeFont <init>\n",
            "WARNING: Using fallback font 'LiberationSans' for 'TimesNewRomanPSMT'\n",
            "Jun 06, 2022 5:29:43 PM org.apache.pdfbox.pdmodel.font.PDTrueTypeFont <init>\n",
            "WARNING: Using fallback font 'LiberationSans-Bold' for 'TimesNewRomanPS-BoldMT'\n",
            "Jun 06, 2022 5:29:43 PM org.apache.pdfbox.pdmodel.font.PDTrueTypeFont <init>\n",
            "WARNING: Using fallback font 'LiberationSans' for 'TimesNewRomanPSMT'\n",
            "Jun 06, 2022 5:29:44 PM org.apache.pdfbox.pdmodel.font.PDTrueTypeFont <init>\n",
            "WARNING: Using fallback font 'LiberationSans-Bold' for 'TimesNewRomanPS-BoldMT'\n",
            "Jun 06, 2022 5:29:44 PM org.apache.pdfbox.pdmodel.font.PDTrueTypeFont <init>\n",
            "WARNING: Using fallback font 'LiberationSans' for 'TimesNewRomanPSMT'\n",
            "Jun 06, 2022 5:29:44 PM org.apache.pdfbox.pdmodel.font.PDTrueTypeFont <init>\n",
            "WARNING: Using fallback font 'LiberationSans-Bold' for 'TimesNewRomanPS-BoldMT'\n",
            "\n"
          ]
        },
        {
          "data": {
            "text/plain": [
              "[   S. No.                       GIT                    GITHUB\n",
              " 0     1.0        Git is a software.      GitHub is a service.\n",
              " 1     2.0     Git is a command line     GitHub is a graphical\n",
              " 2     NaN                     tool.           user interface.\n",
              " 3     3.0      Git is maintained by   GitHub is maintained by\n",
              " 4     NaN                    linux.               Mircrosoft.\n",
              " 5     4.0    Git focused on version         GitHub focused on\n",
              " 6     NaN  control and code sharing  centralized code hosting]"
            ]
          },
          "execution_count": 30,
          "metadata": {},
          "output_type": "execute_result"
        }
      ],
      "source": [
        "# So By default read_pdf takes only one page\n",
        "# so we need to specify pages to process.\n",
        "dfs1 = tabula.read_pdf(pdf_path1, encoding='utf-8',\n",
        "         java_options=None, pandas_options=None,\n",
        "         multiple_tables=True, user_agent=None, pages=\"all\", stream=True)\n",
        "dfs1"
      ]
    },
    {
      "cell_type": "code",
      "execution_count": null,
      "metadata": {
        "id": "fL9PZhNHEBbJ"
      },
      "outputs": [],
      "source": [
        "# SO this time we have got table from all the pages."
      ]
    },
    {
      "cell_type": "code",
      "execution_count": null,
      "metadata": {
        "colab": {
          "base_uri": "https://localhost:8080/"
        },
        "id": "IsM9WnOCEUTx",
        "outputId": "d43a1358-cdfd-4627-8336-951c98ffc607"
      },
      "outputs": [
        {
          "name": "stderr",
          "output_type": "stream",
          "text": [
            "Got stderr: Jun 06, 2022 5:32:33 PM org.apache.pdfbox.pdmodel.font.PDTrueTypeFont <init>\n",
            "WARNING: Using fallback font 'LiberationSans-Bold' for 'TimesNewRomanPS-BoldMT'\n",
            "Jun 06, 2022 5:32:33 PM org.apache.pdfbox.pdmodel.font.PDTrueTypeFont <init>\n",
            "WARNING: Using fallback font 'LiberationSans' for 'TimesNewRomanPSMT'\n",
            "Jun 06, 2022 5:32:35 PM org.apache.pdfbox.pdmodel.font.PDTrueTypeFont <init>\n",
            "WARNING: Using fallback font 'LiberationSans-Bold' for 'TimesNewRomanPS-BoldMT'\n",
            "Jun 06, 2022 5:32:36 PM org.apache.pdfbox.pdmodel.font.PDTrueTypeFont <init>\n",
            "WARNING: Using fallback font 'LiberationSans' for 'TimesNewRomanPSMT'\n",
            "Jun 06, 2022 5:32:37 PM org.apache.pdfbox.pdmodel.font.PDTrueTypeFont <init>\n",
            "WARNING: Using fallback font 'LiberationSans' for 'TimesNewRomanPSMT'\n",
            "Jun 06, 2022 5:32:37 PM org.apache.pdfbox.pdmodel.font.PDTrueTypeFont <init>\n",
            "WARNING: Using fallback font 'LiberationSans-Bold' for 'TimesNewRomanPS-BoldMT'\n",
            "Jun 06, 2022 5:32:38 PM org.apache.pdfbox.pdmodel.font.PDTrueTypeFont <init>\n",
            "WARNING: Using fallback font 'LiberationSans' for 'TimesNewRomanPSMT'\n",
            "Jun 06, 2022 5:32:38 PM org.apache.pdfbox.pdmodel.font.PDTrueTypeFont <init>\n",
            "WARNING: Using fallback font 'LiberationSans-Bold' for 'TimesNewRomanPS-BoldMT'\n",
            "\n"
          ]
        },
        {
          "data": {
            "text/plain": [
              "[{'bottom': 817.75366,\n",
              "  'data': [[{'height': 793.4736938476562,\n",
              "     'left': 24.279991,\n",
              "     'text': 'GIT keeps a record of all the commits done by each of the collaborators on the local copy of the\\rdeveloper. A log file is maintained and is pushed to the central repository each time the push\\roperation is performed. So, if a problem arises then it can be easily tracked and handled by the\\rdeveloper. GIT uses SHA1 to store all the records in the form of objects in the Hash. Each object\\rcollaborates with each other with the use of these Hash keys.\\rSHA1 is a cryptographic algorithm that converts the commit object into a 14-diGIT Hex code. It\\rhelps to store the record of all the commits done by each of the developers. Hence, easily\\rdiagnosable that which commit has resulted in the failure of the work.\\r\\r\\rh.\\rReliable\\rProviding a central repository that is being cloned each time a User performs the Pull operation,\\rthe data of the central repository is always being backed up in every collaborator’s local\\rrepository.\\rHence, in the event of crashing of the central server, the data will never be lost as it can be gained\\rback easily by any of the developer’s local machine. Once the Central Server is all repaired, the\\rdata can be regained by any of the multiple collaborators.\\r\\r\\r\\ri.\\rEconomical\\rGIT is released under the General Public’s License(GPL) and hence it is available for free. GIT\\rcreates a clone of the central repository on the local machine and hence, all the operations are\\rperformed on the local machine of the developer before pushing it on to the central repository.\\rPushing is done only after the version on the local machine is working perfectly and is ready to be\\rpushed on the central server. No experimenting is done with the files on the central server.\\r\\rhttps://www.w3schools.com/git/\\rhttps://www.atlassian.com/git/tutorials\\r\\rS. No.GITGITHUB\\r1.Git is a software.GitHub is a service.\\r2.Git is a command lineGitHub is a graphical\\rtool.user interface.\\r3.Git is maintained byGitHub is maintained by\\rlinux.Mircrosoft.\\r4.Git focused on versionGitHub focused on\\rcontrol and code sharingcentralized code hosting\\r\\r\\r4 | P a g e',\n",
              "     'top': 24.27999,\n",
              "     'width': 546.8738403320312},\n",
              "    {'height': 0.0, 'left': 0.0, 'text': '', 'top': 0.0, 'width': 0.0},\n",
              "    {'height': 0.0, 'left': 0.0, 'text': '', 'top': 0.0, 'width': 0.0}],\n",
              "   [{'height': 22.517303466796875,\n",
              "     'left': 90.29156,\n",
              "     'text': 'S. No.',\n",
              "     'top': 508.79318,\n",
              "     'width': 149.637451171875},\n",
              "    {'height': 22.517303466796875,\n",
              "     'left': 239.92902,\n",
              "     'text': 'GIT',\n",
              "     'top': 508.79318,\n",
              "     'width': 151.70138549804688},\n",
              "    {'height': 22.517303466796875,\n",
              "     'left': 391.6304,\n",
              "     'text': 'GITHUB',\n",
              "     'top': 508.79318,\n",
              "     'width': 151.90280151367188}],\n",
              "   [{'height': 21.59906005859375,\n",
              "     'left': 90.29156,\n",
              "     'text': '1.',\n",
              "     'top': 531.3105,\n",
              "     'width': 149.637451171875},\n",
              "    {'height': 21.59906005859375,\n",
              "     'left': 239.92902,\n",
              "     'text': 'Git is a software.',\n",
              "     'top': 531.3105,\n",
              "     'width': 151.70138549804688},\n",
              "    {'height': 21.59906005859375,\n",
              "     'left': 391.6304,\n",
              "     'text': 'GitHub is a service.',\n",
              "     'top': 531.3105,\n",
              "     'width': 151.90280151367188}],\n",
              "   [{'height': 44.6414794921875,\n",
              "     'left': 90.29156,\n",
              "     'text': '2.',\n",
              "     'top': 552.90955,\n",
              "     'width': 149.637451171875},\n",
              "    {'height': 44.6414794921875,\n",
              "     'left': 239.92902,\n",
              "     'text': 'Git is a command line\\rtool.',\n",
              "     'top': 552.90955,\n",
              "     'width': 151.70138549804688},\n",
              "    {'height': 44.6414794921875,\n",
              "     'left': 391.6304,\n",
              "     'text': 'GitHub is a graphical\\ruser interface.',\n",
              "     'top': 552.90955,\n",
              "     'width': 151.90280151367188}],\n",
              "   [{'height': 44.66961669921875,\n",
              "     'left': 90.29156,\n",
              "     'text': '3.',\n",
              "     'top': 597.551,\n",
              "     'width': 149.637451171875},\n",
              "    {'height': 44.66961669921875,\n",
              "     'left': 239.92902,\n",
              "     'text': 'Git is maintained by\\rlinux.',\n",
              "     'top': 597.551,\n",
              "     'width': 151.70138549804688},\n",
              "    {'height': 44.66961669921875,\n",
              "     'left': 391.6304,\n",
              "     'text': 'GitHub is maintained by\\rMircrosoft.',\n",
              "     'top': 597.551,\n",
              "     'width': 151.90280151367188}],\n",
              "   [{'height': 43.5152587890625,\n",
              "     'left': 90.29156,\n",
              "     'text': '4.',\n",
              "     'top': 642.22064,\n",
              "     'width': 149.637451171875},\n",
              "    {'height': 43.5152587890625,\n",
              "     'left': 239.92902,\n",
              "     'text': 'Git focused on version\\rcontrol and code sharing',\n",
              "     'top': 642.22064,\n",
              "     'width': 151.70138549804688},\n",
              "    {'height': 43.5152587890625,\n",
              "     'left': 391.6304,\n",
              "     'text': 'GitHub focused on\\rcentralized code hosting',\n",
              "     'top': 642.22064,\n",
              "     'width': 151.90280151367188}]],\n",
              "  'extraction_method': 'lattice',\n",
              "  'height': 793.4736938476562,\n",
              "  'left': 24.279991,\n",
              "  'right': 571.1538,\n",
              "  'top': 24.27999,\n",
              "  'width': 546.8738403320312},\n",
              " {'bottom': 817.75366,\n",
              "  'data': [[{'height': 793.4736938476562,\n",
              "     'left': 24.279991,\n",
              "     'text': 'GIT keeps a record of all the commits done by each of the collaborators on the local copy of the\\rdeveloper. A log file is maintained and is pushed to the central repository each time the push\\roperation is performed. So, if a problem arises then it can be easily tracked and handled by the\\rdeveloper. GIT uses SHA1 to store all the records in the form of objects in the Hash. Each object\\rcollaborates with each other with the use of these Hash keys.\\rSHA1 is a cryptographic algorithm that converts the commit object into a 14-diGIT Hex code. It\\rhelps to store the record of all the commits done by each of the developers. Hence, easily\\rdiagnosable that which commit has resulted in the failure of the work.\\r\\r\\rh.\\rReliable\\rProviding a central repository that is being cloned each time a User performs the Pull operation,\\rthe data of the central repository is always being backed up in every collaborator’s local\\rrepository.\\rHence, in the event of crashing of the central server, the data will never be lost as it can be gained\\rback easily by any of the developer’s local machine. Once the Central Server is all repaired, the\\rdata can be regained by any of the multiple collaborators.\\r\\r\\r\\ri.\\rEconomical\\rGIT is released under the General Public’s License(GPL) and hence it is available for free. GIT\\rcreates a clone of the central repository on the local machine and hence, all the operations are\\rperformed on the local machine of the developer before pushing it on to the central repository.\\rPushing is done only after the version on the local machine is working perfectly and is ready to be\\rpushed on the central server. No experimenting is done with the files on the central server.\\r\\rhttps://www.w3schools.com/git/\\rhttps://www.atlassian.com/git/tutorials\\r\\rS. No.GITGITHUB\\r1.Git is a software.GitHub is a service.\\r2.Git is a command lineGitHub is a graphical\\rtool.user interface.\\r3.Git is maintained byGitHub is maintained by\\rlinux.Mircrosoft.\\r4.Git focused on versionGitHub focused on\\rcontrol and code sharingcentralized code hosting\\r\\r\\r4 | P a g e',\n",
              "     'top': 24.27999,\n",
              "     'width': 546.8738403320312},\n",
              "    {'height': 0.0, 'left': 0.0, 'text': '', 'top': 0.0, 'width': 0.0},\n",
              "    {'height': 0.0, 'left': 0.0, 'text': '', 'top': 0.0, 'width': 0.0}],\n",
              "   [{'height': 22.517303466796875,\n",
              "     'left': 90.29156,\n",
              "     'text': 'S. No.',\n",
              "     'top': 508.79318,\n",
              "     'width': 149.637451171875},\n",
              "    {'height': 22.517303466796875,\n",
              "     'left': 239.92902,\n",
              "     'text': 'GIT',\n",
              "     'top': 508.79318,\n",
              "     'width': 151.70138549804688},\n",
              "    {'height': 22.517303466796875,\n",
              "     'left': 391.6304,\n",
              "     'text': 'GITHUB',\n",
              "     'top': 508.79318,\n",
              "     'width': 151.90280151367188}],\n",
              "   [{'height': 21.59906005859375,\n",
              "     'left': 90.29156,\n",
              "     'text': '1.',\n",
              "     'top': 531.3105,\n",
              "     'width': 149.637451171875},\n",
              "    {'height': 21.59906005859375,\n",
              "     'left': 239.92902,\n",
              "     'text': 'Git is a software.',\n",
              "     'top': 531.3105,\n",
              "     'width': 151.70138549804688},\n",
              "    {'height': 21.59906005859375,\n",
              "     'left': 391.6304,\n",
              "     'text': 'GitHub is a service.',\n",
              "     'top': 531.3105,\n",
              "     'width': 151.90280151367188}],\n",
              "   [{'height': 44.6414794921875,\n",
              "     'left': 90.29156,\n",
              "     'text': '2.',\n",
              "     'top': 552.90955,\n",
              "     'width': 149.637451171875},\n",
              "    {'height': 44.6414794921875,\n",
              "     'left': 239.92902,\n",
              "     'text': 'Git is a command line\\rtool.',\n",
              "     'top': 552.90955,\n",
              "     'width': 151.70138549804688},\n",
              "    {'height': 44.6414794921875,\n",
              "     'left': 391.6304,\n",
              "     'text': 'GitHub is a graphical\\ruser interface.',\n",
              "     'top': 552.90955,\n",
              "     'width': 151.90280151367188}],\n",
              "   [{'height': 44.66961669921875,\n",
              "     'left': 90.29156,\n",
              "     'text': '3.',\n",
              "     'top': 597.551,\n",
              "     'width': 149.637451171875},\n",
              "    {'height': 44.66961669921875,\n",
              "     'left': 239.92902,\n",
              "     'text': 'Git is maintained by\\rlinux.',\n",
              "     'top': 597.551,\n",
              "     'width': 151.70138549804688},\n",
              "    {'height': 44.66961669921875,\n",
              "     'left': 391.6304,\n",
              "     'text': 'GitHub is maintained by\\rMircrosoft.',\n",
              "     'top': 597.551,\n",
              "     'width': 151.90280151367188}],\n",
              "   [{'height': 43.5152587890625,\n",
              "     'left': 90.29156,\n",
              "     'text': '4.',\n",
              "     'top': 642.22064,\n",
              "     'width': 149.637451171875},\n",
              "    {'height': 43.5152587890625,\n",
              "     'left': 239.92902,\n",
              "     'text': 'Git focused on version\\rcontrol and code sharing',\n",
              "     'top': 642.22064,\n",
              "     'width': 151.70138549804688},\n",
              "    {'height': 43.5152587890625,\n",
              "     'left': 391.6304,\n",
              "     'text': 'GitHub focused on\\rcentralized code hosting',\n",
              "     'top': 642.22064,\n",
              "     'width': 151.90280151367188}]],\n",
              "  'extraction_method': 'lattice',\n",
              "  'height': 793.4736938476562,\n",
              "  'left': 24.279991,\n",
              "  'right': 571.1538,\n",
              "  'top': 24.27999,\n",
              "  'width': 546.8738403320312}]"
            ]
          },
          "execution_count": 33,
          "metadata": {},
          "output_type": "execute_result"
        }
      ],
      "source": [
        "# read pdf as JSON\n",
        "tabula.read_pdf(pdf_path1, output_format=\"json\", pages=\"all\")\n",
        "# we can also read as JSON, CSV, or TSV"
      ]
    },
    {
      "cell_type": "markdown",
      "metadata": {
        "id": "swII7ZiEFFfF"
      },
      "source": [
        "### **Use lattice mode for more accurate extraction for spreadsheet style tables**\n",
        "If your tables have lines separating cells, you can use lattice option. If your tables don't have separation lines, you can try stream option."
      ]
    },
    {
      "cell_type": "code",
      "execution_count": null,
      "metadata": {
        "colab": {
          "base_uri": "https://localhost:8080/",
          "height": 790
        },
        "id": "Gl1fifOnFWBO",
        "outputId": "54e37cf5-18af-4a6e-88a6-4451734c4b55"
      },
      "outputs": [
        {
          "data": {
            "text/html": [
              "\n",
              "  <div id=\"df-6016e2d2-1d26-4f03-992f-592cd56be57e\">\n",
              "    <div class=\"colab-df-container\">\n",
              "      <div>\n",
              "<style scoped>\n",
              "    .dataframe tbody tr th:only-of-type {\n",
              "        vertical-align: middle;\n",
              "    }\n",
              "\n",
              "    .dataframe tbody tr th {\n",
              "        vertical-align: top;\n",
              "    }\n",
              "\n",
              "    .dataframe thead tr th {\n",
              "        text-align: left;\n",
              "    }\n",
              "</style>\n",
              "<table border=\"1\" class=\"dataframe\">\n",
              "  <thead>\n",
              "    <tr>\n",
              "      <th></th>\n",
              "      <th>Improved operation scenario</th>\n",
              "      <th>Unnamed: 1_level_0</th>\n",
              "      <th>Unnamed: 2_level_0</th>\n",
              "      <th>Unnamed: 3_level_0</th>\n",
              "      <th>Unnamed: 4_level_0</th>\n",
              "      <th>Unnamed: 5_level_0</th>\n",
              "    </tr>\n",
              "    <tr>\n",
              "      <th></th>\n",
              "      <th>Volume servers in:</th>\n",
              "      <th>2007</th>\n",
              "      <th>2008</th>\n",
              "      <th>2009</th>\n",
              "      <th>2010</th>\n",
              "      <th>2011</th>\n",
              "    </tr>\n",
              "  </thead>\n",
              "  <tbody>\n",
              "    <tr>\n",
              "      <th>0</th>\n",
              "      <td>Server closets</td>\n",
              "      <td>1,505</td>\n",
              "      <td>1,580</td>\n",
              "      <td>1,643</td>\n",
              "      <td>1,673</td>\n",
              "      <td>1,689</td>\n",
              "    </tr>\n",
              "    <tr>\n",
              "      <th>1</th>\n",
              "      <td>Server rooms</td>\n",
              "      <td>1,512</td>\n",
              "      <td>1,586</td>\n",
              "      <td>1,646</td>\n",
              "      <td>1,677</td>\n",
              "      <td>1,693</td>\n",
              "    </tr>\n",
              "    <tr>\n",
              "      <th>2</th>\n",
              "      <td>Localized data centers</td>\n",
              "      <td>1,512</td>\n",
              "      <td>1,586</td>\n",
              "      <td>1,646</td>\n",
              "      <td>1,677</td>\n",
              "      <td>1,693</td>\n",
              "    </tr>\n",
              "    <tr>\n",
              "      <th>3</th>\n",
              "      <td>Mid-tier data centers</td>\n",
              "      <td>1,512</td>\n",
              "      <td>1,586</td>\n",
              "      <td>1,646</td>\n",
              "      <td>1,677</td>\n",
              "      <td>1,693</td>\n",
              "    </tr>\n",
              "    <tr>\n",
              "      <th>4</th>\n",
              "      <td>Enterprise-class data centers</td>\n",
              "      <td>1,512</td>\n",
              "      <td>1,586</td>\n",
              "      <td>1,646</td>\n",
              "      <td>1,677</td>\n",
              "      <td>1,693</td>\n",
              "    </tr>\n",
              "    <tr>\n",
              "      <th>5</th>\n",
              "      <td>Best practice scenario</td>\n",
              "      <td>NaN</td>\n",
              "      <td>NaN</td>\n",
              "      <td>NaN</td>\n",
              "      <td>NaN</td>\n",
              "      <td>NaN</td>\n",
              "    </tr>\n",
              "    <tr>\n",
              "      <th>6</th>\n",
              "      <td>Volume servers in:</td>\n",
              "      <td>2007</td>\n",
              "      <td>2008</td>\n",
              "      <td>2009</td>\n",
              "      <td>2010</td>\n",
              "      <td>2011</td>\n",
              "    </tr>\n",
              "    <tr>\n",
              "      <th>7</th>\n",
              "      <td>Server closets</td>\n",
              "      <td>1,456</td>\n",
              "      <td>1,439</td>\n",
              "      <td>1,386</td>\n",
              "      <td>1,296</td>\n",
              "      <td>1,326</td>\n",
              "    </tr>\n",
              "    <tr>\n",
              "      <th>8</th>\n",
              "      <td>Server rooms</td>\n",
              "      <td>1,465</td>\n",
              "      <td>1,472</td>\n",
              "      <td>1,427</td>\n",
              "      <td>1,334</td>\n",
              "      <td>1,371</td>\n",
              "    </tr>\n",
              "    <tr>\n",
              "      <th>9</th>\n",
              "      <td>Localized data centers</td>\n",
              "      <td>1,465</td>\n",
              "      <td>1,471</td>\n",
              "      <td>1,426</td>\n",
              "      <td>1,334</td>\n",
              "      <td>1,371</td>\n",
              "    </tr>\n",
              "    <tr>\n",
              "      <th>10</th>\n",
              "      <td>Mid-tier data centers</td>\n",
              "      <td>1,465</td>\n",
              "      <td>1,471</td>\n",
              "      <td>1,426</td>\n",
              "      <td>1,334</td>\n",
              "      <td>1,371</td>\n",
              "    </tr>\n",
              "    <tr>\n",
              "      <th>11</th>\n",
              "      <td>Enterprise-class data centers</td>\n",
              "      <td>1,465</td>\n",
              "      <td>1,471</td>\n",
              "      <td>1,426</td>\n",
              "      <td>1,334</td>\n",
              "      <td>1,371</td>\n",
              "    </tr>\n",
              "    <tr>\n",
              "      <th>12</th>\n",
              "      <td>State-of-the-art scenario</td>\n",
              "      <td>NaN</td>\n",
              "      <td>NaN</td>\n",
              "      <td>NaN</td>\n",
              "      <td>NaN</td>\n",
              "      <td>NaN</td>\n",
              "    </tr>\n",
              "    <tr>\n",
              "      <th>13</th>\n",
              "      <td>Volume servers in:</td>\n",
              "      <td>2007</td>\n",
              "      <td>2008</td>\n",
              "      <td>2009</td>\n",
              "      <td>2010</td>\n",
              "      <td>2011</td>\n",
              "    </tr>\n",
              "    <tr>\n",
              "      <th>14</th>\n",
              "      <td>Server closets</td>\n",
              "      <td>1,485</td>\n",
              "      <td>1,471</td>\n",
              "      <td>1,424</td>\n",
              "      <td>1,315</td>\n",
              "      <td>1,349</td>\n",
              "    </tr>\n",
              "    <tr>\n",
              "      <th>15</th>\n",
              "      <td>Server rooms</td>\n",
              "      <td>1,495</td>\n",
              "      <td>1,573</td>\n",
              "      <td>1,586</td>\n",
              "      <td>1,424</td>\n",
              "      <td>1,485</td>\n",
              "    </tr>\n",
              "    <tr>\n",
              "      <th>16</th>\n",
              "      <td>Localized data centers</td>\n",
              "      <td>1,495</td>\n",
              "      <td>1,572</td>\n",
              "      <td>1,585</td>\n",
              "      <td>1,424</td>\n",
              "      <td>1,485</td>\n",
              "    </tr>\n",
              "    <tr>\n",
              "      <th>17</th>\n",
              "      <td>Mid-tier data centers</td>\n",
              "      <td>1,495</td>\n",
              "      <td>1,572</td>\n",
              "      <td>1,585</td>\n",
              "      <td>1,424</td>\n",
              "      <td>1,485</td>\n",
              "    </tr>\n",
              "    <tr>\n",
              "      <th>18</th>\n",
              "      <td>Enterprise-class data centers</td>\n",
              "      <td>1,495</td>\n",
              "      <td>1,572</td>\n",
              "      <td>1,585</td>\n",
              "      <td>1,424</td>\n",
              "      <td>1,485</td>\n",
              "    </tr>\n",
              "  </tbody>\n",
              "</table>\n",
              "</div>\n",
              "      <button class=\"colab-df-convert\" onclick=\"convertToInteractive('df-6016e2d2-1d26-4f03-992f-592cd56be57e')\"\n",
              "              title=\"Convert this dataframe to an interactive table.\"\n",
              "              style=\"display:none;\">\n",
              "        \n",
              "  <svg xmlns=\"http://www.w3.org/2000/svg\" height=\"24px\"viewBox=\"0 0 24 24\"\n",
              "       width=\"24px\">\n",
              "    <path d=\"M0 0h24v24H0V0z\" fill=\"none\"/>\n",
              "    <path d=\"M18.56 5.44l.94 2.06.94-2.06 2.06-.94-2.06-.94-.94-2.06-.94 2.06-2.06.94zm-11 1L8.5 8.5l.94-2.06 2.06-.94-2.06-.94L8.5 2.5l-.94 2.06-2.06.94zm10 10l.94 2.06.94-2.06 2.06-.94-2.06-.94-.94-2.06-.94 2.06-2.06.94z\"/><path d=\"M17.41 7.96l-1.37-1.37c-.4-.4-.92-.59-1.43-.59-.52 0-1.04.2-1.43.59L10.3 9.45l-7.72 7.72c-.78.78-.78 2.05 0 2.83L4 21.41c.39.39.9.59 1.41.59.51 0 1.02-.2 1.41-.59l7.78-7.78 2.81-2.81c.8-.78.8-2.07 0-2.86zM5.41 20L4 18.59l7.72-7.72 1.47 1.35L5.41 20z\"/>\n",
              "  </svg>\n",
              "      </button>\n",
              "      \n",
              "  <style>\n",
              "    .colab-df-container {\n",
              "      display:flex;\n",
              "      flex-wrap:wrap;\n",
              "      gap: 12px;\n",
              "    }\n",
              "\n",
              "    .colab-df-convert {\n",
              "      background-color: #E8F0FE;\n",
              "      border: none;\n",
              "      border-radius: 50%;\n",
              "      cursor: pointer;\n",
              "      display: none;\n",
              "      fill: #1967D2;\n",
              "      height: 32px;\n",
              "      padding: 0 0 0 0;\n",
              "      width: 32px;\n",
              "    }\n",
              "\n",
              "    .colab-df-convert:hover {\n",
              "      background-color: #E2EBFA;\n",
              "      box-shadow: 0px 1px 2px rgba(60, 64, 67, 0.3), 0px 1px 3px 1px rgba(60, 64, 67, 0.15);\n",
              "      fill: #174EA6;\n",
              "    }\n",
              "\n",
              "    [theme=dark] .colab-df-convert {\n",
              "      background-color: #3B4455;\n",
              "      fill: #D2E3FC;\n",
              "    }\n",
              "\n",
              "    [theme=dark] .colab-df-convert:hover {\n",
              "      background-color: #434B5C;\n",
              "      box-shadow: 0px 1px 3px 1px rgba(0, 0, 0, 0.15);\n",
              "      filter: drop-shadow(0px 1px 2px rgba(0, 0, 0, 0.3));\n",
              "      fill: #FFFFFF;\n",
              "    }\n",
              "  </style>\n",
              "\n",
              "      <script>\n",
              "        const buttonEl =\n",
              "          document.querySelector('#df-6016e2d2-1d26-4f03-992f-592cd56be57e button.colab-df-convert');\n",
              "        buttonEl.style.display =\n",
              "          google.colab.kernel.accessAllowed ? 'block' : 'none';\n",
              "\n",
              "        async function convertToInteractive(key) {\n",
              "          const element = document.querySelector('#df-6016e2d2-1d26-4f03-992f-592cd56be57e');\n",
              "          const dataTable =\n",
              "            await google.colab.kernel.invokeFunction('convertToInteractive',\n",
              "                                                     [key], {});\n",
              "          if (!dataTable) return;\n",
              "\n",
              "          const docLinkHtml = 'Like what you see? Visit the ' +\n",
              "            '<a target=\"_blank\" href=https://colab.research.google.com/notebooks/data_table.ipynb>data table notebook</a>'\n",
              "            + ' to learn more about interactive tables.';\n",
              "          element.innerHTML = '';\n",
              "          dataTable['output_type'] = 'display_data';\n",
              "          await google.colab.output.renderOutput(dataTable, element);\n",
              "          const docLink = document.createElement('div');\n",
              "          docLink.innerHTML = docLinkHtml;\n",
              "          element.appendChild(docLink);\n",
              "        }\n",
              "      </script>\n",
              "    </div>\n",
              "  </div>\n",
              "  "
            ],
            "text/plain": [
              "      Improved operation scenario Unnamed: 1_level_0 Unnamed: 2_level_0  \\\n",
              "               Volume servers in:               2007               2008   \n",
              "0                  Server closets              1,505              1,580   \n",
              "1                    Server rooms              1,512              1,586   \n",
              "2          Localized data centers              1,512              1,586   \n",
              "3           Mid-tier data centers              1,512              1,586   \n",
              "4   Enterprise-class data centers              1,512              1,586   \n",
              "5          Best practice scenario                NaN                NaN   \n",
              "6              Volume servers in:               2007               2008   \n",
              "7                  Server closets              1,456              1,439   \n",
              "8                    Server rooms              1,465              1,472   \n",
              "9          Localized data centers              1,465              1,471   \n",
              "10          Mid-tier data centers              1,465              1,471   \n",
              "11  Enterprise-class data centers              1,465              1,471   \n",
              "12      State-of-the-art scenario                NaN                NaN   \n",
              "13             Volume servers in:               2007               2008   \n",
              "14                 Server closets              1,485              1,471   \n",
              "15                   Server rooms              1,495              1,573   \n",
              "16         Localized data centers              1,495              1,572   \n",
              "17          Mid-tier data centers              1,495              1,572   \n",
              "18  Enterprise-class data centers              1,495              1,572   \n",
              "\n",
              "   Unnamed: 3_level_0 Unnamed: 4_level_0 Unnamed: 5_level_0  \n",
              "                 2009               2010               2011  \n",
              "0               1,643              1,673              1,689  \n",
              "1               1,646              1,677              1,693  \n",
              "2               1,646              1,677              1,693  \n",
              "3               1,646              1,677              1,693  \n",
              "4               1,646              1,677              1,693  \n",
              "5                 NaN                NaN                NaN  \n",
              "6                2009               2010               2011  \n",
              "7               1,386              1,296              1,326  \n",
              "8               1,427              1,334              1,371  \n",
              "9               1,426              1,334              1,371  \n",
              "10              1,426              1,334              1,371  \n",
              "11              1,426              1,334              1,371  \n",
              "12                NaN                NaN                NaN  \n",
              "13               2009               2010               2011  \n",
              "14              1,424              1,315              1,349  \n",
              "15              1,586              1,424              1,485  \n",
              "16              1,585              1,424              1,485  \n",
              "17              1,585              1,424              1,485  \n",
              "18              1,585              1,424              1,485  "
            ]
          },
          "execution_count": 34,
          "metadata": {},
          "output_type": "execute_result"
        }
      ],
      "source": [
        "pdf_path3 = \"https://github.com/tabulapdf/tabula-java/raw/master/src/test/resources/technology/tabula/spanning_cells.pdf\"\n",
        "dfs = tabula.read_pdf(\n",
        "    pdf_path3,\n",
        "    pages=\"1\",\n",
        "    lattice=True,\n",
        "    pandas_options={\"header\": [0, 1]},\n",
        "    area=[0, 0, 50, 100],\n",
        "    relative_area=True,\n",
        "    multiple_tables=False,\n",
        ")\n",
        "dfs[0]"
      ]
    },
    {
      "cell_type": "code",
      "execution_count": null,
      "metadata": {
        "id": "v2IhYsjdFjaw"
      },
      "outputs": [],
      "source": [
        "########################################################################################"
      ]
    },
    {
      "cell_type": "markdown",
      "metadata": {
        "id": "xxZZctWnGgPu"
      },
      "source": [
        "\n",
        "#2.   **Camelot**\n",
        "\n",
        "https://pypi.org/project/camelot-py/"
      ]
    },
    {
      "cell_type": "code",
      "execution_count": 1,
      "metadata": {
        "id": "SUz7hpKjMI-R"
      },
      "outputs": [],
      "source": [
        "# importing library\n",
        "import camelot as cml"
      ]
    },
    {
      "cell_type": "code",
      "execution_count": null,
      "metadata": {
        "id": "Cxj4Zbb0IbWN"
      },
      "outputs": [],
      "source": [
        "# Syntax of the camelot.read_pdf function \n",
        "# cml.read_pdf(\n",
        "#     filepath,\n",
        "#     pages='1',\n",
        "#     password=None,\n",
        "#     flavor='lattice',\n",
        "#     suppress_stdout=False,\n",
        "#     layout_kwargs={},\n",
        "#     **kwargs,\n",
        "# )"
      ]
    },
    {
      "cell_type": "code",
      "execution_count": 2,
      "metadata": {
        "id": "M_PZb3chKCMh"
      },
      "outputs": [],
      "source": [
        "# extract all the tables in the pdf file.\n",
        "tables = cml.read_pdf(pdf_path1)\n",
        "\n",
        "# checking type\n",
        "print(\"Table Type: \", type(tables))\n",
        "\n",
        "print(\"Tables: \", tables)"
      ]
    },
    {
      "cell_type": "code",
      "execution_count": null,
      "metadata": {
        "id": "gcOGIIg0IkM8"
      },
      "outputs": [],
      "source": [
        "# checking parsing report.\n",
        "tables[2].parsing_report"
      ]
    },
    {
      "cell_type": "code",
      "execution_count": null,
      "metadata": {
        "id": "iqJILbuaKsle"
      },
      "outputs": [],
      "source": [
        "# number of tables extracted\n",
        "print(\"Total tables extracted:\", tables.n)"
      ]
    },
    {
      "cell_type": "code",
      "execution_count": 2,
      "metadata": {
        "id": "jmWLufj2HrJr"
      },
      "outputs": [],
      "source": [
        "# print the first table as Pandas DataFrame\n",
        "print(tables[0].df)"
      ]
    },
    {
      "cell_type": "code",
      "execution_count": null,
      "metadata": {
        "id": "eaSsQEUbHtD9"
      },
      "outputs": [],
      "source": [
        "# export individually as CSV\n",
        "tables[0].to_csv(\"table_camelot.csv\")"
      ]
    },
    {
      "cell_type": "code",
      "execution_count": null,
      "metadata": {
        "id": "MHkJrG8bHtRT"
      },
      "outputs": [],
      "source": [
        "# export individually as Excel (.xlsx extension)\n",
        "tables[0].to_excel(\"table_camelot.xlsx\")"
      ]
    },
    {
      "cell_type": "code",
      "execution_count": null,
      "metadata": {
        "id": "r2IiIg9bHtal"
      },
      "outputs": [],
      "source": [
        "# or export all in a zip\n",
        "tables.export(\"table_camelot.csv\", f=\"csv\", compress=True)"
      ]
    },
    {
      "cell_type": "code",
      "execution_count": null,
      "metadata": {
        "id": "rNprMTVmHtd4"
      },
      "outputs": [],
      "source": [
        "# export to HTML\n",
        "tables.export(\"foo.html\", f=\"html\")"
      ]
    },
    {
      "cell_type": "code",
      "execution_count": null,
      "metadata": {
        "id": "RElL0gkWHtrw"
      },
      "outputs": [],
      "source": [
        "https://camelot-py.readthedocs.io/en/master/"
      ]
    },
    {
      "cell_type": "markdown",
      "metadata": {
        "id": "DCwNhuVHJG7x"
      },
      "source": [
        "For Exploring all other features, you can go through Docs.\n",
        "https://camelot-py.readthedocs.io/en/master/"
      ]
    },
    {
      "cell_type": "code",
      "execution_count": 3,
      "metadata": {
        "id": "EkxsrTK1JRNK"
      },
      "outputs": [],
      "source": [
        "##############################################################################################\n"
      ]
    },
    {
      "cell_type": "markdown",
      "metadata": {
        "id": "08l9ss0AJ3kV"
      },
      "source": [
        "# Convert PDF to Image using Python\n",
        "https://pdf2image.readthedocs.io/en/latest/index.html"
      ]
    },
    {
      "cell_type": "code",
      "execution_count": 6,
      "metadata": {
        "id": "5OwuY-d4J6Ez"
      },
      "outputs": [],
      "source": [
        "\n",
        "# import library\n",
        "import pdf2image as pmg\n",
        "\n",
        "# Make sure poppler is installed in your system. If not please install it.\n",
        "# can also use following command in terminal.\n",
        "# !apt-get install poppler-utils"
      ]
    },
    {
      "cell_type": "code",
      "execution_count": 7,
      "metadata": {
        "id": "9D0soIifM2E3"
      },
      "outputs": [],
      "source": [
        "# There are following options available with pdf2image\n",
        "#\n",
        "# pmg.convert_from_path(\n",
        "#     pdf_path,\n",
        "#     dpi=200,\n",
        "#     output_folder=None,\n",
        "#     first_page=None,\n",
        "#     last_page=None,\n",
        "#     fmt=\"ppm\",\n",
        "#     jpegopt=None,\n",
        "#     thread_count=1,\n",
        "#     userpw=None,\n",
        "#     use_cropbox=False,\n",
        "#     strict=False,\n",
        "#     transparent=False,\n",
        "#     single_file=False,\n",
        "#     output_file=uuid_generator(),\n",
        "#     poppler_path=None,\n",
        "#     grayscale=False,\n",
        "#     size=None,\n",
        "#     paths_only=False,\n",
        "#     hide_annotations=False,\n",
        "# )\n",
        "\n",
        "# convert_from_bytes(\n",
        "#     pdf_bytes,\n",
        "#     dpi=200,\n",
        "#     output_folder=None,\n",
        "#     first_page=None,\n",
        "#     last_page=None,\n",
        "#     fmt=\"ppm\",\n",
        "#     jpegopt=None,\n",
        "#     thread_count=1,\n",
        "#     userpw=None,\n",
        "#     use_cropbox=False,\n",
        "#     strict=False,\n",
        "#     transparent=False,\n",
        "#     single_file=False,\n",
        "#     output_file=uuid_generator(),\n",
        "#     poppler_path=None,\n",
        "#     grayscale=False,\n",
        "#     size=None,\n",
        "#     paths_only=False,\n",
        "#     hide_annotations=False,\n",
        "# )\n"
      ]
    },
    {
      "cell_type": "code",
      "execution_count": 3,
      "metadata": {
        "colab": {
          "base_uri": "https://localhost:8080/"
        },
        "id": "lRYnmE-aKJPd",
        "outputId": "222c4756-3acc-4580-ae0a-be4e9c01abb1"
      },
      "outputs": [
        {
          "name": "stdout",
          "output_type": "stream",
          "text": [
            "all images saved\n"
          ]
        }
      ],
      "source": [
        "# path of pdf files to convert\n",
        "pdf_path_img = \"/content/sample_data/pdf_sample1.pdf\"\n",
        "\n",
        "# Convert_from_path take path of pdf file and returns images.\n",
        "# Store Pdf with convert_from_path function\n",
        "images = pmg.convert_from_path(pdf_path_img)\n",
        " \n",
        "for indx in range(len(images)):\n",
        "      # Save pages as images in the pdf\n",
        "    images[indx].save('page'+ str(indx) +'.jpg', 'JPEG')\n",
        "\n",
        "print(\"all images saved\")"
      ]
    },
    {
      "cell_type": "code",
      "execution_count": 8,
      "metadata": {
        "id": "WjzYwdUzLgvw"
      },
      "outputs": [],
      "source": [
        "# Please also explore other option convert_from_bytes()"
      ]
    },
    {
      "cell_type": "code",
      "execution_count": 9,
      "metadata": {
        "id": "qE9J7zi7NNLL"
      },
      "outputs": [],
      "source": [
        "##############################################################"
      ]
    },
    {
      "cell_type": "markdown",
      "metadata": {
        "id": "6PPQzcYlOazJ"
      },
      "source": [
        "# **Checking if PDF is Image Based PDF or Searchable PDF**"
      ]
    },
    {
      "cell_type": "markdown",
      "metadata": {
        "id": "Fd6qYX5pOz8f"
      },
      "source": [
        "Identifying the type of PDF whether text-based or image-based is an essential step when you want to extract text from a PDF.\n",
        "\n",
        "If the text is entirely selectable from the PDF, then it can be extracted using various packages.\n",
        "If the text is not selectable from the PDF, then these text extraction tools or packages will fail and you need to convert these into images and use OCR to extract the text from them.\n",
        "Thus, it is essential to classify text-based and image-based PDFs from the dataset.\n",
        "If a text-based PDF is detected, there are lots of Python packages like pdftotext, PyPDF2, PyMuPDF etc. which provides methods to extract text and if an image-based PDF is detected, OCR modules such as pytesseract, have to used for extract text after converting the PDF page to an image."
      ]
    },
    {
      "cell_type": "code",
      "execution_count": 12,
      "metadata": {
        "id": "pTQlwf9JPHkV"
      },
      "outputs": [],
      "source": [
        "# PyMuPDF is a powerful module for PDF processing and operations.\n",
        "# It has an inbuilt class called fitz\n",
        "# which we are going to use for classification.\n",
        "# please intall PyMuPDF library before using."
      ]
    },
    {
      "cell_type": "code",
      "execution_count": 14,
      "metadata": {
        "id": "ajDzVdxpPXtv"
      },
      "outputs": [],
      "source": [
        "import fitz"
      ]
    },
    {
      "cell_type": "code",
      "execution_count": 17,
      "metadata": {
        "id": "A2JYvElnPc9p"
      },
      "outputs": [],
      "source": [
        "def classify_pdf(pdf_file):\n",
        "  \"\"\"Input: pdf file path\n",
        "     Output: If image based pdf of not\n",
        "  \"\"\"\n",
        "  # Opening pdf file from path\n",
        "  with open(pdf_file,\"rb\") as f:\n",
        "    pdf = fitz.open(f)\n",
        "\n",
        "  # initializing empty list for response.\n",
        "  res = []\n",
        "\n",
        "  # Now iterate through each page and\n",
        "  # check if images based page or not.\n",
        "  for page in pdf:\n",
        "    image_area = 0.0\n",
        "    text_area = 0.0\n",
        "    # identify text-based or image-based PDF page\n",
        "    # using text_area and image_area\n",
        "    for b in page.get_text(\"blocks\"):\n",
        "      if '<image:' in b[4]:\n",
        "        r = fitz.Rect(b[:4])\n",
        "        image_area = image_area + abs(r)\n",
        "      else:\n",
        "        r = fitz.Rect(b[:4])\n",
        "        text_area = text_area + abs(r)\n",
        "    \n",
        "    if image_area == 0.0 and text_area != 0.0:\n",
        "      res.append(1)\n",
        "    if text_area == 0.0 and image_area != 0.0:\n",
        "      res.append(0) \n",
        "  return res"
      ]
    },
    {
      "cell_type": "code",
      "execution_count": 18,
      "metadata": {
        "colab": {
          "base_uri": "https://localhost:8080/"
        },
        "id": "kpzd2FIBQ3Ju",
        "outputId": "7ee56de2-d6a6-427f-ca5e-8b13d405dbcf"
      },
      "outputs": [
        {
          "name": "stdout",
          "output_type": "stream",
          "text": [
            "PDF is image-based!\n"
          ]
        }
      ],
      "source": [
        "# Function call.\n",
        "pdf_path = \"/content/sample_data/image-based-pdf-sample.pdf\"\n",
        "classifier_result = classify_pdf(pdf_path)\n",
        "\n",
        "# if list contains 0 then it is image based else searchable page.\n",
        "if 0 in classifier_result:\n",
        "    print(\"PDF is image-based!\")\n",
        "else:\n",
        "    print(\"PDF is text-based!\")"
      ]
    },
    {
      "cell_type": "code",
      "execution_count": 19,
      "metadata": {
        "id": "szvkMREBRpDH"
      },
      "outputs": [],
      "source": [
        "# In practical world most pdf are combine of both.\n",
        "# containing images as well as text."
      ]
    },
    {
      "cell_type": "code",
      "execution_count": null,
      "metadata": {
        "id": "bxzMHTIiR3Yz"
      },
      "outputs": [],
      "source": [
        "########################################################################"
      ]
    },
    {
      "cell_type": "markdown",
      "metadata": {
        "id": "qoQUwu3ESLl5"
      },
      "source": [
        "# **Image Based To Searchable PDF**\n",
        "**Using Pytesseract**"
      ]
    },
    {
      "cell_type": "code",
      "execution_count": 20,
      "metadata": {
        "id": "VTeTqG72SZXY"
      },
      "outputs": [],
      "source": [
        "# please install following package before executing below code\n",
        "# PIL, pytesseract, install pdf2image, tesseract-ocr"
      ]
    },
    {
      "cell_type": "code",
      "execution_count": 3,
      "metadata": {
        "id": "avIRL4QpSqtA"
      },
      "outputs": [],
      "source": [
        "# !pip install PIL\n",
        "# !pip install pytesseract\n",
        "# !pip install pdf2image\n",
        "# !apt-get install tesseract-ocr\n"
      ]
    },
    {
      "cell_type": "code",
      "execution_count": 4,
      "metadata": {
        "id": "Wnew6LERTXdO"
      },
      "outputs": [],
      "source": [
        "# import library\n",
        "from PIL import Image\n",
        "import pytesseract\n",
        "from pdf2image import convert_from_path"
      ]
    },
    {
      "cell_type": "code",
      "execution_count": 8,
      "metadata": {
        "id": "58bs2pbaSxCb"
      },
      "outputs": [],
      "source": [
        "def scanned_pdf_to_text(pdf_path):\n",
        "  \"\"\"Input: (PDF path)\n",
        "     Output: Text from pdf.\n",
        "  \"\"\"\n",
        "  # First we need to convert the PDF into image files.\n",
        "\n",
        "  # Store all the pages of the PDF in a variable\n",
        "  pages = convert_from_path(pdf_path, 500)\n",
        "\n",
        "  # Counter to store images of each page of PDF to image\n",
        "  image_counter = 1\n",
        "\n",
        "  # Iterate through all the pages stored above\n",
        "  for page in pages:\n",
        "    filename = pdf_path.replace(\".pdf\", \"_image\") + str(image_counter)+\".jpg\"\n",
        "    \n",
        "    # Save the image of the page in system\n",
        "    page.save(filename, 'JPEG')\n",
        "\n",
        "    # Increment the counter to update filename\n",
        "    image_counter = image_counter + 1\n",
        "\n",
        "  # Recognizing text from the images using OCR\n",
        "  # Variable to get count of total number of pages\n",
        "  filelimit = image_counter-1\n",
        "\n",
        "  # Creating a text file to write the output\n",
        "  outfile = \"out_text.txt\"\n",
        "\n",
        "  # Open the file in append mode so that\n",
        "  # All contents of all images are added to the same file\n",
        "  f = open(outfile, \"a\")\n",
        "  \n",
        "  # empty list for output response \n",
        "  response = []\n",
        "\n",
        "  # Iterate from 1 to total number of pages\n",
        "  for i in range(1, filelimit + 1):\n",
        "    filename = pdf_path.replace(\".pdf\", \"_image\") + str(i)+\".jpg\"\n",
        "      \n",
        "    # Recognize the text as string in image using pytesserct\n",
        "    text = str(((pytesseract.image_to_string(Image.open(filename)))))\n",
        "    text = text.replace('-\\n', '')\n",
        "\n",
        "    # Finally, append text to response.\n",
        "    response.append(text)\n",
        "\n",
        "  # returning response containing texts.\n",
        "  return response"
      ]
    },
    {
      "cell_type": "code",
      "execution_count": 11,
      "metadata": {
        "colab": {
          "base_uri": "https://localhost:8080/"
        },
        "id": "TxZ5v1ToTQoI",
        "outputId": "7d285bde-dbfe-4787-b647-21b469bc4ee2"
      },
      "outputs": [
        {
          "name": "stdout",
          "output_type": "stream",
          "text": [
            "Getting Texts from Image Based PDF file.\n",
            "[' \\n\\nThis is an example of an “Image-based PDF” (also known as image-only PDFs).\\n\\nImage-based PDFs are typically created through scanning paper in a copier, taking photographs\\nor taking screenshots. To a computer, they are images. Though we humans can see text in the\\nimage, the file only consists of the image layer but not the searchable text layer that True PDFs\\ncontain. As a result, we cannot use a computer to search the text we see in the image as that text\\nlayer is missing. There are times when discovery is produced, it will be in an image-based PDF\\nformat. When you come across image-based PDFs, ask the U.S. Attorney’s Office in what\\nformat was that file originally. Second, ask if they have it in a searchable format and specifically\\nif they have it in a digitally created, True, Text-based PDF format. They may not, as they often\\nreceive PDFs from other sources before they provide them to you, but you will want to know\\nwhat is the format in which they have it in, and what is the original format of the file (as far as\\nthey know).\\n\\x0c']\n"
          ]
        }
      ],
      "source": [
        "if __name__ == \"__main__\":\n",
        "  print(\"Getting Texts from Image Based PDF file.\")\n",
        "  \n",
        "  # pdf path\n",
        "  pdf_path = \"/content/sample_data/image-based-pdf-sample.pdf\"\n",
        "  \n",
        "  # Function call to crop pdf file.\n",
        "  texts = scanned_pdf_to_text(pdf_path)\n",
        "\n",
        "  print(texts)"
      ]
    },
    {
      "cell_type": "code",
      "execution_count": 12,
      "metadata": {
        "id": "HBHqvKBtXNv0"
      },
      "outputs": [],
      "source": [
        "# Please explore other options for image based pdf to text based pdf."
      ]
    },
    {
      "cell_type": "code",
      "execution_count": 13,
      "metadata": {
        "id": "epkaDbr8W_yt"
      },
      "outputs": [],
      "source": [
        "#####################################################################################\n"
      ]
    },
    {
      "cell_type": "code",
      "execution_count": null,
      "metadata": {
        "id": "R2dS2N_RXXHX"
      },
      "outputs": [],
      "source": []
    }
  ],
  "metadata": {
    "colab": {
      "collapsed_sections": [],
      "name": "pdf_processing_part2.ipynb",
      "provenance": []
    },
    "kernelspec": {
      "display_name": "Python 3.8.10 64-bit",
      "language": "python",
      "name": "python3"
    },
    "language_info": {
      "name": "python",
      "version": "3.8.10"
    },
    "vscode": {
      "interpreter": {
        "hash": "916dbcbb3f70747c44a77c7bcd40155683ae19c65e1c03b4aa3499c5328201f1"
      }
    }
  },
  "nbformat": 4,
  "nbformat_minor": 0
}
